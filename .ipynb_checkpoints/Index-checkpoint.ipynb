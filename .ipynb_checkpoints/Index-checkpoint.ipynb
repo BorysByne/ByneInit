{
 "cells": [
  {
   "cell_type": "code",
   "execution_count": 202,
   "id": "e875c683-6a81-4bae-8bdc-115a8cfffb01",
   "metadata": {},
   "outputs": [],
   "source": [
    "import requests\n",
    "\n",
    "KEY = 'YOUR-API-KEY'\n",
    "headers = {\n",
    "    'X-API-Key': \"bdocs-wIV08x7k2tDl868xOgO82qoEdbjvI_1sTop-_cdMdME\",\n",
    "    'Content-Type': 'application/json'\n",
    "}"
   ]
  },
  {
   "cell_type": "markdown",
   "id": "640b0f02-7ffc-45f7-954e-e03148f3db31",
   "metadata": {},
   "source": [
    "The code below creates a knowledge base (\"KB\"). KB is a fundamental unit in Byne's ecosystem. It will later be used to ensure observability and multi-tenancy for your deployments. "
   ]
  },
  {
   "cell_type": "code",
   "execution_count": 203,
   "id": "722551d3-e212-41a5-ac56-cf9b84902d4c",
   "metadata": {},
   "outputs": [
    {
     "data": {
      "text/plain": [
       "{'id': '306c3acc-490d-499f-b4e4-3617098f5491',\n",
       " 'name': 'user-knowledge-base-f772385',\n",
       " 'type': 'query',\n",
       " 'paragraphs': {'chunkSize': 800, 'chunkOverlap': 400},\n",
       " 'dateCreated': '2024-07-08T14:48:45.296966+00:00'}"
      ]
     },
     "execution_count": 203,
     "metadata": {},
     "output_type": "execute_result"
    }
   ],
   "source": [
    "knowledge_base = requests.post('https://app.docs.bynesoft.com/api/knowledge-base/', headers=headers).json()\n",
    "knowledge_base"
   ]
  },
  {
   "cell_type": "code",
   "execution_count": 204,
   "id": "dcc9f08b-9d95-49da-a1cc-53e860dac745",
   "metadata": {},
   "outputs": [
    {
     "name": "stdout",
     "output_type": "stream",
     "text": [
      "Your KB ID is 306c3acc-490d-499f-b4e4-3617098f5491. Please write it down as this credential is used later in the POC deployment.\n"
     ]
    }
   ],
   "source": [
    "knowledge_base_id = knowledge_base['id']\n",
    "print(f'Your KB ID is {knowledge_base_id}. Please write it down as this credential is used later in the POC deployment.')"
   ]
  },
  {
   "cell_type": "markdown",
   "id": "30a8a99f-ae74-4061-8394-d899649e32ab",
   "metadata": {},
   "source": [
    "Here we load a pre-defined Execution layer spec as JSON. It will used to initialise your execution layer."
   ]
  },
  {
   "cell_type": "code",
   "execution_count": 205,
   "id": "d3bf3ea9-a88e-474e-9c41-62d0cc529411",
   "metadata": {},
   "outputs": [],
   "source": [
    "import json\n",
    "\n",
    "with open('Data/exec_layer.json', 'r') as f:\n",
    "    exec_layer = json.load(f)"
   ]
  },
  {
   "cell_type": "code",
   "execution_count": 206,
   "id": "51bc54f0-271e-4561-a001-e82067284d14",
   "metadata": {},
   "outputs": [
    {
     "data": {
      "text/plain": [
       "{'name': 'get_vehicles',\n",
       " 'description': 'Searches for cars',\n",
       " 'sourceFabric': {'config': {'body': {},\n",
       "   'headers': {},\n",
       "   'method': 'GET',\n",
       "   'parameters': {'properties': {'condition.odometer.value_in_km': {'type': 'string',\n",
       "      'description': \"Filter results by odometer value range, in format 'min-max', 'min-' or '-max' i.e. 10-100 means from 10 to 100, 10- means 10 and more, -100 means less than 100. Never write just the number. If you want to write an exact number, put it as a range X-X.\"},\n",
       "     'advertiser.id': {'type': 'string',\n",
       "      'description': 'Filter by advertiser ID. Can be repeated for multiple values. Case-sensitive.'},\n",
       "     '_fieldset': {'type': 'string',\n",
       "      'description': 'The set of vehicle fields to return in the results.',\n",
       "      'enum': ['searchresults']},\n",
       "     '_limit': {'type': 'integer',\n",
       "      'description': 'The maximum number of vehicles to return, default 25, max 100.'},\n",
       "     'general.model.normalized': {'type': 'string',\n",
       "      'description': 'Filter results by vehicle model. Can be repeated for multiple values. Must be lower-case and presented as make/model (i.e. toyota/yaris).'},\n",
       "     'features.climate_control': {'type': 'string',\n",
       "      'description': \"Filter for vehicles with climate control. Pass 'true' to apply filter.\",\n",
       "      'enum': ['true']},\n",
       "     'body.door_count': {'type': 'string',\n",
       "      'description': \"Filter by door count range, in format 'min-max', 'min-' or '-max'i.e. 10-100 means from 10 to 100, 10- means 10 and more, -100 means less than 100. Never write just the number. If you want to write an exact number, put it as a range X-X.\"},\n",
       "     'powertrain.engine.energy.type.category': {'type': 'string',\n",
       "      'description': 'Filter results by engine energy type. Can be repeated for multiple values. Must be lower case.'},\n",
       "     '_loglabel.yourkey': {'type': 'string',\n",
       "      'description': 'Arbitrary key-value pairs to attach to the request log.'},\n",
       "     'sales_conditions.pricing.asking.consumer.amount': {'type': 'string',\n",
       "      'description': \"Filter results by price range, in format 'min-max', 'min-' or '-max' i.e. 10-100 means from 10 to 100, 10- means 10 and more, -100 means less than 100. Never write just the number. If you want to write an exact number, put it as a range X-X.\"},\n",
       "     'powertrain.transmission.type': {'type': 'string',\n",
       "      'description': 'Filter by transmission type. Can be repeated for multiple values. Must be lower case.',\n",
       "      'enum': ['manual', 'automatic']},\n",
       "     'body.colour.primary': {'type': 'string',\n",
       "      'description': 'Filter by primary body color. Can be repeated for multiple values. Must be lower case.'},\n",
       "     'general.bodystyle.category': {'type': 'string',\n",
       "      'description': 'Filter results by vehicle body style. Can be repeated for multiple values. Must be lower case. Examples: hatchback.'},\n",
       "     'region_specific.nl.nap_weblabel': {'type': 'string',\n",
       "      'description': \"Filter for vehicles with NAP web label. Pass 'true' to apply filter.\",\n",
       "      'enum': ['true']},\n",
       "     'advertiser.coordinates': {'type': 'integer',\n",
       "      'description': 'Filter for vehicles within X km of the visitor location. Requires _location parameter.'},\n",
       "     'general.year': {'type': 'string',\n",
       "      'description': \"Filter by model year range, in format 'min-max', 'min-' or '-max'.\"},\n",
       "     'features.air_conditioning': {'type': 'string',\n",
       "      'description': \"Filter for vehicles with air conditioning. Pass 'true' to apply filter.\",\n",
       "      'enum': ['true']},\n",
       "     'general.make.normalized': {'type': 'string',\n",
       "      'description': 'Filter results by vehicle make. Can be repeated for multiple values. Must be lower-case.'},\n",
       "     'features.cruise_control': {'type': 'string',\n",
       "      'description': \"Filter for vehicles with cruise control. Pass 'true' to apply filter.\",\n",
       "      'enum': ['true']},\n",
       "     'general.type.name': {'type': 'string',\n",
       "      'description': 'Free text search on type name. Case-insensitive.'},\n",
       "     'features.tow_bar': {'type': 'string',\n",
       "      'description': \"Filter for vehicles with a tow bar. Pass 'true' to apply filter.\",\n",
       "      'enum': ['true']},\n",
       "     'keyword': {'type': 'string',\n",
       "      'description': 'Free text keyword search. Case-insensitive and locale-dependent.'},\n",
       "     'interior.seat_count': {'type': 'string',\n",
       "      'description': \"Filter by seat count range, in format 'min-max', 'min-' or '-max'. i.e. 2-4 means from 2 to 4, 4- means 4 and more, -4 means less than 4. Never write just the number. If you want to write an exact number, put it as a range X-X.\"},\n",
       "     'sales_conditions.margin_scheme': {'type': 'string',\n",
       "      'description': 'Filter by margin scheme. Can be repeated for multiple values. Case-sensitive.'}},\n",
       "    'required': ['_fieldset'],\n",
       "    'type': 'object'},\n",
       "   'url': 'https://api-nl.ilsa.cloud/5k8dwFCpU7Ak/searchresults'},\n",
       "  'name': 'apiFunction'}}"
      ]
     },
     "execution_count": 206,
     "metadata": {},
     "output_type": "execute_result"
    }
   ],
   "source": [
    "exec_layer"
   ]
  },
  {
   "cell_type": "code",
   "execution_count": 207,
   "id": "681f21b5-2a99-4ad4-a817-6ad36ccde354",
   "metadata": {},
   "outputs": [],
   "source": [
    "exec_layer_obj = requests.post(\n",
    "    'https://app.docs.bynesoft.com/api/users/agents/execution-layers', \n",
    "    headers=headers,\n",
    "    data = json.dumps(exec_layer)).json()\n"
   ]
  },
  {
   "cell_type": "code",
   "execution_count": 208,
   "id": "a3a24c14-c809-4c5d-ae43-b3ebe54b907d",
   "metadata": {},
   "outputs": [
    {
     "data": {
      "text/plain": [
       "{'id': '103bfcad-8543-4c2e-acc4-81c010a81d21',\n",
       " 'name': 'get_vehicles',\n",
       " 'dateCreated': '2024-07-08T14:48:55.818732+00:00'}"
      ]
     },
     "execution_count": 208,
     "metadata": {},
     "output_type": "execute_result"
    }
   ],
   "source": [
    "exec_layer_obj"
   ]
  },
  {
   "cell_type": "code",
   "execution_count": 209,
   "id": "63022ae3-f8e1-4fad-9939-08da14263e6b",
   "metadata": {},
   "outputs": [],
   "source": [
    "exec_layer = {\n",
    "  \"name\": \"ReviewSearch\",\n",
    "  \"description\": \"Find recent reviews.\",\n",
    "  \"sourceFabric\": {\n",
    "    \"config\": {\"siteFilter\":[\"whatcar.com\", \"autocar.co.uk\", \"carwow.co.uk\", \"topgear.com\", \"autoexpress.co.uk\"]},\n",
    "    \"name\": \"googleSearch\"\n",
    "  }\n",
    "}"
   ]
  },
  {
   "cell_type": "code",
   "execution_count": 210,
   "id": "61e8a533-d26a-449b-a53d-df42a70f5fd3",
   "metadata": {},
   "outputs": [],
   "source": [
    "exec_layer_obj = requests.post(\n",
    "    'https://app.docs.bynesoft.com/api/users/agents/execution-layers', \n",
    "    headers=headers,\n",
    "    data = json.dumps(exec_layer)).json()\n"
   ]
  },
  {
   "cell_type": "code",
   "execution_count": 211,
   "id": "56643b13-700d-4797-aa73-d1edd4783212",
   "metadata": {},
   "outputs": [
    {
     "data": {
      "text/plain": [
       "{'id': 'f0c86d5d-e30d-42e1-bd70-ba27bc941681',\n",
       " 'name': 'ReviewSearch',\n",
       " 'dateCreated': '2024-07-08T14:49:05.276480+00:00'}"
      ]
     },
     "execution_count": 211,
     "metadata": {},
     "output_type": "execute_result"
    }
   ],
   "source": [
    "exec_layer_obj"
   ]
  },
  {
   "cell_type": "code",
   "execution_count": 212,
   "id": "38bfeb01-cac8-422a-a895-04a89525068a",
   "metadata": {},
   "outputs": [],
   "source": [
    "exec_layer_obj = requests.get(\n",
    "    'https://app.docs.bynesoft.com/api/users/agents/execution-layers', \n",
    "    headers=headers).json()\n"
   ]
  },
  {
   "cell_type": "code",
   "execution_count": 213,
   "id": "2eee2f59-b045-4604-8504-a68783112548",
   "metadata": {},
   "outputs": [
    {
     "data": {
      "text/plain": [
       "{'executionLayers': [{'id': '103bfcad-8543-4c2e-acc4-81c010a81d21',\n",
       "   'name': 'get_vehicles',\n",
       "   'sourceFabric': 'apiFunction'},\n",
       "  {'id': 'f0c86d5d-e30d-42e1-bd70-ba27bc941681',\n",
       "   'name': 'ReviewSearch',\n",
       "   'sourceFabric': 'googleSearch'}],\n",
       " 'nextToken': None}"
      ]
     },
     "execution_count": 213,
     "metadata": {},
     "output_type": "execute_result"
    }
   ],
   "source": [
    "exec_layer_obj"
   ]
  },
  {
   "cell_type": "code",
   "execution_count": 214,
   "id": "b2c61a1f-eebb-4e1b-8901-5ab2d6010210",
   "metadata": {},
   "outputs": [],
   "source": [
    "exec_layer_ids = [exec_layer['id'] for exec_layer in exec_layer_obj['executionLayers']]"
   ]
  },
  {
   "cell_type": "code",
   "execution_count": 215,
   "id": "5d32702c-e907-4d52-8bbd-e86068021baf",
   "metadata": {},
   "outputs": [
    {
     "data": {
      "text/plain": [
       "['103bfcad-8543-4c2e-acc4-81c010a81d21',\n",
       " 'f0c86d5d-e30d-42e1-bd70-ba27bc941681']"
      ]
     },
     "execution_count": 215,
     "metadata": {},
     "output_type": "execute_result"
    }
   ],
   "source": [
    "exec_layer_ids"
   ]
  },
  {
   "cell_type": "markdown",
   "id": "3ad791ca-557a-4279-a62e-2cd0c90dce47",
   "metadata": {},
   "source": [
    "Here we load and create a template. You can see the template itself below."
   ]
  },
  {
   "cell_type": "code",
   "execution_count": 192,
   "id": "4375aced-7e5d-4345-b18f-bed4c5efa242",
   "metadata": {},
   "outputs": [],
   "source": [
    "import json\n",
    "\n",
    "with open('Data/template.json', 'r') as f:\n",
    "    template = json.load(f)"
   ]
  },
  {
   "cell_type": "code",
   "execution_count": 193,
   "id": "0fc14417-bcfb-4538-b13a-8280cc91593c",
   "metadata": {},
   "outputs": [],
   "source": [
    "template_obj = requests.post(\n",
    "    'https://app.docs.bynesoft.com/api/ask/templates', \n",
    "    headers=headers,\n",
    "    data = json.dumps(template)).json()\n",
    "\n"
   ]
  },
  {
   "cell_type": "code",
   "execution_count": 194,
   "id": "72f5f71f-6d66-41ab-a5cc-f53f86cb59bf",
   "metadata": {},
   "outputs": [],
   "source": [
    "template_obj = requests.get(\n",
    "    'https://app.docs.bynesoft.com/api/ask/templates', \n",
    "    headers=headers).json()"
   ]
  },
  {
   "cell_type": "code",
   "execution_count": 198,
   "id": "a50a698e-9d58-4bc5-932e-2c7ddebe0f51",
   "metadata": {},
   "outputs": [],
   "source": [
    "template_id = template_obj['templates'][0]['id']"
   ]
  },
  {
   "cell_type": "code",
   "execution_count": 199,
   "id": "fff2ca9f-b573-45a1-af7a-e84fa3856034",
   "metadata": {},
   "outputs": [],
   "source": [
    "agent_spec = {\n",
    "  \"name\": \"get_vehicles\",\n",
    "  \"description\": \"Find good cars\",\n",
    "  \"templateId\": template_id,\n",
    "  \"exeLayers\": [\n",
    "    exec_layer_id\n",
    "  ],\n",
    "  \"modelType\": \"GPT-4o\"\n",
    "}\n",
    "\n",
    "agent_obj = requests.post(\n",
    "    'https://app.docs.bynesoft.com/api/users/agents', \n",
    "    headers=headers,\n",
    "    data = json.dumps(agent_spec)).json()\n"
   ]
  },
  {
   "cell_type": "code",
   "execution_count": 200,
   "id": "e2677265-cca6-4978-9ffe-ab6142e27884",
   "metadata": {},
   "outputs": [
    {
     "ename": "KeyError",
     "evalue": "'id'",
     "output_type": "error",
     "traceback": [
      "\u001b[0;31m---------------------------------------------------------------------------\u001b[0m",
      "\u001b[0;31mKeyError\u001b[0m                                  Traceback (most recent call last)",
      "Cell \u001b[0;32mIn[200], line 1\u001b[0m\n\u001b[0;32m----> 1\u001b[0m agent_id \u001b[38;5;241m=\u001b[39m \u001b[43magent_obj\u001b[49m\u001b[43m[\u001b[49m\u001b[38;5;124;43m'\u001b[39;49m\u001b[38;5;124;43mid\u001b[39;49m\u001b[38;5;124;43m'\u001b[39;49m\u001b[43m]\u001b[49m\n",
      "\u001b[0;31mKeyError\u001b[0m: 'id'"
     ]
    }
   ],
   "source": [
    "agent_id = agent_obj['id']"
   ]
  },
  {
   "cell_type": "code",
   "execution_count": 184,
   "id": "287af330-2b26-4a23-a5ab-eb16586f9f52",
   "metadata": {},
   "outputs": [
    {
     "name": "stdout",
     "output_type": "stream",
     "text": [
      "Your Agent ID is 94f34a3c-2faa-424c-9c4c-73b01dfd6dd4. Please write it down as this credential is used later in the POC deployment.\n"
     ]
    }
   ],
   "source": [
    "print(f'Your Agent ID is {agent_id}. Please write it down as this credential is used later in the POC deployment.')"
   ]
  },
  {
   "cell_type": "markdown",
   "id": "252c39b1-ffd7-4475-842b-aeac9306b43c",
   "metadata": {},
   "source": [
    "This concludes the setup. Below you may find an Agent call."
   ]
  },
  {
   "cell_type": "code",
   "execution_count": 171,
   "id": "a825b29f-9dbe-4382-a471-4c08879ee614",
   "metadata": {},
   "outputs": [
    {
     "data": {
      "text/plain": [
       "'{\"response\":{\"answer\":\"\\\\\"Here are some Toyota car options up to €30,000:\\\\n\\\\n1. Toyota Aygo X PREMIUM DESIGN PACK NAVI JBL-AUDIO SMART-ENTRY (2024) for €25,995 (location: Ommen, contact: verkoop-ommen@autobedrijfvanleussen.nl)\\\\n2. Toyota C-HR 1.8 Hybrid Active (2021) for €23,395 (location: Soest, contact: info@autosmeeing.nl)\\\\n3. Toyota C-HR 2.0 Hybrid Style Premium (2021) for €26,945 (location: Soest, contact: info@autosmeeing.nl)\\\\n4. Toyota Aygo X 1.0 VVT-i S-CVT Premium limited (2022) for €22,995 (location: Dronryp, contact: bouwe@strikwerda.nl)\\\\n5. Toyota Yaris 1.0 VVT-i Comfort (2020) for €14,900 (location: Rotterdam, contact: info@xpeng-rotterdam.nl)\\\\n6. Toyota Aygo 1.0 VVT-i x-play (2020) for €11,890 (location: Naarden, contact: info@jvk.nl)\\\\n7. Toyota Aygo 1.0 VVT-i X-Wave Cabrio (2016) for €9,799 (location: Eefde, contact: verkoop@autoserviceeefde.nl)\\\\n\\\\nThese cars all have various features and conditions, so feel free to reach out to the respective contacts for more details.\\\\\"\",\"reference\":[{\"exeLayer\":\"34bc9b90-fb2e-489a-9423-4778c51ae943\",\"source\":\"{\\\\\"num_results\\\\\": 1681, \\\\\"results\\\\\": [{\\\\\"id\\\\\": \\\\\"343752734-1\\\\\", \\\\\"advertiser\\\\\": {\\\\\"accepts_leads\\\\\": true, \\\\\"city\\\\\": \\\\\"Ommen\\\\\", \\\\\"email\\\\\": \\\\\"verkoop-ommen@autobedrijfvanleussen.nl\\\\\", \\\\\"housenumber\\\\\": 2, \\\\\"id\\\\\": \\\\\"3470\\\\\", \\\\\"name\\\\\": \\\\\"van Leussen Ommen\\\\\", \\\\\"postal_code\\\\\": \\\\\"7731TG\\\\\", \\\\\"street\\\\\": \\\\\"Brink \\\\\", \\\\\"telephone\\\\\": \\\\\"0529-451261\\\\\"}, \\\\\"body\\\\\": {\\\\\"colour\\\\\": {\\\\\"primary\\\\\": {\\\\\"display_value\\\\\": \\\\\"Grijs\\\\\", \\\\\"key\\\\\": \\\\\"grey\\\\\"}}}, \\\\\"condition\\\\\": {\\\\\"odometer\\\\\": {\\\\\"formatted\\\\\": \\\\\"10 km\\\\\", \\\\\"value_in_km\\\\\": 10}}, \\\\\"description\\\\\": {\\\\\"title\\\\\": \\\\\"Toyota Aygo X PREMIUM DESIGN PACK NAVI JBL-AUDIO SMART-ENTRY STOELVERWARMING 18\\\\\\\\\\\\\"LM-VELGEN PARK-SENSOREN CLIMA LED-PAKKET\\\\\"}, \\\\\"features\\\\\": {\\\\\"air_conditioning\\\\\": true, \\\\\"climate_control\\\\\": true, \\\\\"cruise_control\\\\\": true}, \\\\\"general\\\\\": {\\\\\"year\\\\\": 2024, \\\\\"bodystyle\\\\\": {\\\\\"category\\\\\": {\\\\\"display_value\\\\\": \\\\\"Hatchback\\\\\", \\\\\"key\\\\\": \\\\\"hatchback\\\\\"}, \\\\\"code\\\\\": {\\\\\"display_value\\\\\": \\\\\"Hatchback\\\\\", \\\\\"key\\\\\": \\\\\"hatchback\\\\\"}}, \\\\\"make\\\\\": {\\\\\"name\\\\\": \\\\\"Toyota\\\\\", \\\\\"normalized\\\\\": {\\\\\"display_value\\\\\": \\\\\"Toyota\\\\\", \\\\\"key\\\\\": \\\\\"toyota\\\\\"}}, \\\\\"model\\\\\": {\\\\\"name\\\\\": \\\\\"Aygo\\\\\", \\\\\"normalized\\\\\": {\\\\\"display_value\\\\\": \\\\\"Aygo\\\\\", \\\\\"key\\\\\": \\\\\"toyota/aygo\\\\\"}}, \\\\\"type\\\\\": {\\\\\"name\\\\\": \\\\\"X PREMIUM DESIGN PACK\\\\\", \\\\\"supplement\\\\\": \\\\\"NAVI JBL-AUDIO SMART-ENTRY STOELVERWARMING 18\\\\\\\\\\\\\"LM-VELGEN PARK-SENSOREN CLIMA LED-PAKKET\\\\\"}}, \\\\\"identification\\\\\": {\\\\\"slug\\\\\": \\\\\"toyota-aygo-x-premium-design-pack-benzine\\\\\"}, \\\\\"images\\\\\": [{\\\\\"srcset\\\\\": \\\\\"https://carpassai.images.ilsa.cloud/dc0d8d15-5e83-4c41-a6d9-8249746d1e1c.webp 320w, https://carpassai.images.ilsa.cloud/c3f3f7db-9c66-4133-95ba-0ea37eafa927.webp 480w, https://carpassai.images.ilsa.cloud/2868bf2e-08f5-4ae9-a5c4-74a759f4a013.webp 640w, https://carpassai.images.ilsa.cloud/84cf4708-7ac9-4054-8e75-26be4c111a4a.webp 1024w, https://carpassai.images.ilsa.cloud/586a9459-85a0-473a-b646-bc9b9a0bfcc9.webp 2048w\\\\\"}], \\\\\"powertrain\\\\\": {\\\\\"engine\\\\\": {\\\\\"energy\\\\\": {\\\\\"type\\\\\": {\\\\\"category\\\\\": {\\\\\"display_value\\\\\": \\\\\"Benzine\\\\\", \\\\\"key\\\\\": \\\\\"petrol\\\\\"}, \\\\\"code\\\\\": {\\\\\"display_value\\\\\": \\\\\"Benzine\\\\\"}}}}, \\\\\"transmission\\\\\": {\\\\\"type\\\\\": {\\\\\"display_value\\\\\": \\\\\"Handgeschakeld\\\\\", \\\\\"key\\\\\": \\\\\"manual\\\\\"}}}, \\\\\"region_specific\\\\\": {\\\\\"nl\\\\\": {\\\\\"nap_weblabel\\\\\": true}}, \\\\\"sales_conditions\\\\\": {\\\\\"margin_scheme\\\\\": {\\\\\"key\\\\\": \\\\\"vat\\\\\"}, \\\\\"pricing\\\\\": {\\\\\"asking\\\\\": {\\\\\"consumer\\\\\": {\\\\\"amount\\\\\": 25995, \\\\\"formatted\\\\\": \\\\\"\\\\\\\\u20ac 25.995\\\\\"}}, \\\\\"consumer\\\\\": {\\\\\"excl_vat\\\\\": {\\\\\"formatted\\\\\": \\\\\"\\\\\\\\u20ac 21.854\\\\\"}, \\\\\"incl_vat\\\\\": {\\\\\"amount\\\\\": 25995, \\\\\"formatted\\\\\": \\\\\"\\\\\\\\u20ac 25.995\\\\\"}}}}}, {\\\\\"id\\\\\": \\\\\"134268035-1\\\\\", \\\\\"advertiser\\\\\": {\\\\\"accepts_leads\\\\\": true, \\\\\"city\\\\\": \\\\\"Soest\\\\\", \\\\\"email\\\\\": \\\\\"info@autosmeeing.nl\\\\\", \\\\\"housenumber\\\\\": 14, \\\\\"id\\\\\": \\\\\"4400\\\\\", \\\\\"name\\\\\": \\\\\"Auto Smeeing B.V.\\\\\", \\\\\"postal_code\\\\\": \\\\\"3762EC\\\\\", \\\\\"street\\\\\": \\\\\"Koningsweg \\\\\", \\\\\"telephone\\\\\": \\\\\"035-6039999\\\\\"}, \\\\\"body\\\\\": {\\\\\"colour\\\\\": {\\\\\"primary\\\\\": {\\\\\"display_value\\\\\": \\\\\"Grijs\\\\\", \\\\\"key\\\\\": \\\\\"grey\\\\\"}}}, \\\\\"condition\\\\\": {\\\\\"odometer\\\\\": {\\\\\"formatted\\\\\": \\\\\"46.557 km\\\\\", \\\\\"value_in_km\\\\\": 46557}}, \\\\\"description\\\\\": {\\\\\"title\\\\\": \\\\\"Toyota C-HR 1.8 Hybrid Active | Camera | Carplay | Adapt cruise | Lane assist |  Zondag Open!\\\\\"}, \\\\\"features\\\\\": {\\\\\"air_conditioning\\\\\": true, \\\\\"climate_control\\\\\": true, \\\\\"cruise_control\\\\\": true}, \\\\\"general\\\\\": {\\\\\"year\\\\\": 2021, \\\\\"bodystyle\\\\\": {\\\\\"category\\\\\": {\\\\\"display_value\\\\\": \\\\\"SUV\\\\\", \\\\\"key\\\\\": \\\\\"suv\\\\\"}, \\\\\"code\\\\\": {\\\\\"display_value\\\\\": \\\\\"SUV\\\\\", \\\\\"key\\\\\": \\\\\"suv\\\\\"}}, \\\\\"make\\\\\": {\\\\\"name\\\\\": \\\\\"Toyota\\\\\", \\\\\"normalized\\\\\": {\\\\\"display_value\\\\\": \\\\\"Toyota\\\\\", \\\\\"key\\\\\": \\\\\"toyota\\\\\"}}, \\\\\"model\\\\\": {\\\\\"name\\\\\": \\\\\"C-HR\\\\\", \\\\\"normalized\\\\\": {\\\\\"display_value\\\\\": \\\\\"C-HR\\\\\", \\\\\"key\\\\\": \\\\\"toyota/c-hr\\\\\"}}, \\\\\"type\\\\\": {\\\\\"name\\\\\": \\\\\"1.8 Hybrid Active\\\\\", \\\\\"supplement\\\\\": \\\\\"| Camera | Carplay | Adapt cruise | Lane assist |  Zondag Open!\\\\\"}}, \\\\\"identification\\\\\": {\\\\\"slug\\\\\": \\\\\"toyota-c-hr-18-hybrid-active-hybride\\\\\"}, \\\\\"images\\\\\": [{\\\\\"srcset\\\\\": \\\\\"https://carpassai.images.ilsa.cloud/11e1f8da-89bb-4b8f-8c9e-980f9fff2eee.webp 320w, https://carpassai.images.ilsa.cloud/6e4a67da-48fe-458c-a412-5f909cea758a.webp 480w, https://carpassai.images.ilsa.cloud/b239cca2-36bb-418f-bdc4-73401cdbc2bd.webp 640w, https://carpassai.images.ilsa.cloud/8dfdf082-57d6-4ca9-9a07-728600f51f48.webp 1024w, https://carpassai.images.ilsa.cloud/b90e441f-dad9-4e5d-9f69-87d7625a8271.webp 1920w\\\\\"}], \\\\\"powertrain\\\\\": {\\\\\"engine\\\\\": {\\\\\"energy\\\\\": {\\\\\"type\\\\\": {\\\\\"category\\\\\": {\\\\\"display_value\\\\\": \\\\\"Hybride\\\\\", \\\\\"key\\\\\": \\\\\"hybrid\\\\\"}, \\\\\"code\\\\\": {\\\\\"display_value\\\\\": \\\\\"Hybride (benzine/elektrisch)\\\\\"}}}}, \\\\\"transmission\\\\\": {\\\\\"type\\\\\": {\\\\\"display_value\\\\\": \\\\\"Automaat\\\\\", \\\\\"key\\\\\": \\\\\"automatic\\\\\"}}}, \\\\\"region_specific\\\\\": {\\\\\"nl\\\\\": {\\\\\"nap_weblabel\\\\\": true}}, \\\\\"sales_conditions\\\\\": {\\\\\"margin_scheme\\\\\": {\\\\\"key\\\\\": \\\\\"vat\\\\\"}, \\\\\"pricing\\\\\": {\\\\\"asking\\\\\": {\\\\\"consumer\\\\\": {\\\\\"amount\\\\\": 23395, \\\\\"formatted\\\\\": \\\\\"\\\\\\\\u20ac 23.395\\\\\"}}, \\\\\"consumer\\\\\": {\\\\\"excl_vat\\\\\": {\\\\\"formatted\\\\\": \\\\\"\\\\\\\\u20ac 19.480\\\\\"}, \\\\\"incl_vat\\\\\": {\\\\\"amount\\\\\": 23395, \\\\\"formatted\\\\\": \\\\\"\\\\\\\\u20ac 23.395\\\\\"}}}}}, {\\\\\"id\\\\\": \\\\\"447532853-1\\\\\", \\\\\"advertiser\\\\\": {\\\\\"accepts_leads\\\\\": true, \\\\\"city\\\\\": \\\\\"Soest\\\\\", \\\\\"email\\\\\": \\\\\"info@autosmeeing.nl\\\\\", \\\\\"housenumber\\\\\": 14, \\\\\"id\\\\\": \\\\\"4400\\\\\", \\\\\"name\\\\\": \\\\\"Auto Smeeing B.V.\\\\\", \\\\\"postal_code\\\\\": \\\\\"3762EC\\\\\", \\\\\"street\\\\\": \\\\\"Koningsweg \\\\\", \\\\\"telephone\\\\\": \\\\\"035-6039999\\\\\"}, \\\\\"body\\\\\": {\\\\\"colour\\\\\": {\\\\\"primary\\\\\": {\\\\\"display_value\\\\\": \\\\\"Grijs\\\\\", \\\\\"key\\\\\": \\\\\"grey\\\\\"}}}, \\\\\"condition\\\\\": {\\\\\"odometer\\\\\": {\\\\\"formatted\\\\\": \\\\\"16.747 km\\\\\", \\\\\"value_in_km\\\\\": 16747}}, \\\\\"description\\\\\": {\\\\\"title\\\\\": \\\\\"Toyota C-HR 2.0 Hybrid Style Premium | LED | Camera | Blind spot | Adapt.cruise |  Zondag Open!\\\\\"}, \\\\\"features\\\\\": {\\\\\"air_conditioning\\\\\": true, \\\\\"climate_control\\\\\": true, \\\\\"cruise_control\\\\\": true}, \\\\\"general\\\\\": {\\\\\"year\\\\\": 2021, \\\\\"bodystyle\\\\\": {\\\\\"category\\\\\": {\\\\\"display_value\\\\\": \\\\\"SUV\\\\\", \\\\\"key\\\\\": \\\\\"suv\\\\\"}, \\\\\"code\\\\\": {\\\\\"display_value\\\\\": \\\\\"SUV\\\\\", \\\\\"key\\\\\": \\\\\"suv\\\\\"}}, \\\\\"make\\\\\": {\\\\\"name\\\\\": \\\\\"Toyota\\\\\", \\\\\"normalized\\\\\": {\\\\\"display_value\\\\\": \\\\\"Toyota\\\\\", \\\\\"key\\\\\": \\\\\"toyota\\\\\"}}, \\\\\"model\\\\\": {\\\\\"name\\\\\": \\\\\"C-HR\\\\\", \\\\\"normalized\\\\\": {\\\\\"display_value\\\\\": \\\\\"C-HR\\\\\", \\\\\"key\\\\\": \\\\\"toyota/c-hr\\\\\"}}, \\\\\"type\\\\\": {\\\\\"name\\\\\": \\\\\"2.0 Hybrid Style Premium\\\\\", \\\\\"supplement\\\\\": \\\\\"| LED | Camera | Blind spot | Adapt.cruise |  Zondag Open!\\\\\"}}, \\\\\"identification\\\\\": {\\\\\"slug\\\\\": \\\\\"toyota-c-hr-20-hybrid-style-premium-hybride\\\\\"}, \\\\\"images\\\\\": [{\\\\\"srcset\\\\\": \\\\\"https://carpassai.images.ilsa.cloud/b9faf41a-e009-49f3-a479-a67f2e3b0543.webp 320w, https://carpassai.images.ilsa.cloud/20d352e4-b096-4112-9af9-44d1094ac3c9.webp 480w, https://carpassai.images.ilsa.cloud/aee0237d-da79-45e0-ba07-99bc0613e80c.webp 640w, https://carpassai.images.ilsa.cloud/9e2ed130-6123-479c-adeb-7a201e388128.webp 1024w, https://carpassai.images.ilsa.cloud/680d6664-538f-44c4-af94-0dd27821b90c.webp 1920w\\\\\"}], \\\\\"powertrain\\\\\": {\\\\\"engine\\\\\": {\\\\\"energy\\\\\": {\\\\\"type\\\\\": {\\\\\"category\\\\\": {\\\\\"display_value\\\\\": \\\\\"Hybride\\\\\", \\\\\"key\\\\\": \\\\\"hybrid\\\\\"}, \\\\\"code\\\\\": {\\\\\"display_value\\\\\": \\\\\"Hybride (benzine/elektrisch)\\\\\"}}}}, \\\\\"transmission\\\\\": {\\\\\"type\\\\\": {\\\\\"display_value\\\\\": \\\\\"Automaat\\\\\", \\\\\"key\\\\\": \\\\\"automatic\\\\\"}}}, \\\\\"region_specific\\\\\": {\\\\\"nl\\\\\": {\\\\\"nap_weblabel\\\\\": false}}, \\\\\"sales_conditions\\\\\": {\\\\\"margin_scheme\\\\\": {\\\\\"key\\\\\": \\\\\"vat\\\\\"}, \\\\\"pricing\\\\\": {\\\\\"asking\\\\\": {\\\\\"consumer\\\\\": {\\\\\"amount\\\\\": 26945, \\\\\"formatted\\\\\": \\\\\"\\\\\\\\u20ac 26.945\\\\\"}}, \\\\\"consumer\\\\\": {\\\\\"excl_vat\\\\\": {\\\\\"formatted\\\\\": \\\\\"\\\\\\\\u20ac 22.517\\\\\"}, \\\\\"incl_vat\\\\\": {\\\\\"amount\\\\\": 26945, \\\\\"formatted\\\\\": \\\\\"\\\\\\\\u20ac 26.945\\\\\"}}}}}, {\\\\\"id\\\\\": \\\\\"384983026-1\\\\\", \\\\\"advertiser\\\\\": {\\\\\"accepts_leads\\\\\": true, \\\\\"city\\\\\": \\\\\"Dronryp\\\\\", \\\\\"email\\\\\": \\\\\"bouwe@strikwerda.nl\\\\\", \\\\\"housenumber\\\\\": 12, \\\\\"id\\\\\": \\\\\"3619\\\\\", \\\\\"name\\\\\": \\\\\"Autobedrijf Strikwerda Dronrijp\\\\\", \\\\\"postal_code\\\\\": \\\\\"9035VP\\\\\", \\\\\"street\\\\\": \\\\\"De Alde Mar \\\\\", \\\\\"telephone\\\\\": \\\\\"0517727800\\\\\"}, \\\\\"body\\\\\": {\\\\\"colour\\\\\": {\\\\\"primary\\\\\": {\\\\\"display_value\\\\\": \\\\\"Bruin\\\\\", \\\\\"key\\\\\": \\\\\"brown\\\\\"}}}, \\\\\"condition\\\\\": {\\\\\"odometer\\\\\": {\\\\\"formatted\\\\\": \\\\\"29.758 km\\\\\", \\\\\"value_in_km\\\\\": 29758}}, \\\\\"description\\\\\": {\\\\\"title\\\\\": \\\\\"Toyota Aygo X 1.0 VVT-i S-CVT Premium limited\\\\\"}, \\\\\"features\\\\\": {\\\\\"air_conditioning\\\\\": true, \\\\\"climate_control\\\\\": true, \\\\\"cruise_control\\\\\": true}, \\\\\"general\\\\\": {\\\\\"year\\\\\": 2022, \\\\\"bodystyle\\\\\": {\\\\\"category\\\\\": {\\\\\"display_value\\\\\": \\\\\"Hatchback\\\\\", \\\\\"key\\\\\": \\\\\"hatchback\\\\\"}, \\\\\"code\\\\\": {\\\\\"display_value\\\\\": \\\\\"Hatchback\\\\\", \\\\\"key\\\\\": \\\\\"hatchback\\\\\"}}, \\\\\"make\\\\\": {\\\\\"name\\\\\": \\\\\"Toyota\\\\\", \\\\\"normalized\\\\\": {\\\\\"display_value\\\\\": \\\\\"Toyota\\\\\", \\\\\"key\\\\\": \\\\\"toyota\\\\\"}}, \\\\\"model\\\\\": {\\\\\"name\\\\\": \\\\\"Aygo\\\\\", \\\\\"normalized\\\\\": {\\\\\"display_value\\\\\": \\\\\"Aygo\\\\\", \\\\\"key\\\\\": \\\\\"toyota/aygo\\\\\"}}, \\\\\"type\\\\\": {\\\\\"name\\\\\": \\\\\"X 1.0 VVT-i S-CVT Premium\\\\\", \\\\\"supplement\\\\\": \\\\\"limited\\\\\"}}, \\\\\"identification\\\\\": {\\\\\"slug\\\\\": \\\\\"toyota-aygo-x-10-vvt-i-s-cvt-premium-limited\\\\\"}, \\\\\"images\\\\\": [{\\\\\"srcset\\\\\": \\\\\"https://carpassai.images.ilsa.cloud/ebb89a66-ecef-409d-b13b-ffa4664929ac.webp 320w, https://carpassai.images.ilsa.cloud/d75a4229-6f29-4e25-8a71-17afd5c5c1ea.webp 480w, https://carpassai.images.ilsa.cloud/2c2b20fc-8304-4fdc-ac49-201d3ab79102.webp 640w, https://carpassai.images.ilsa.cloud/5a2eead2-2d12-48e2-89c8-e08a3b4dd833.webp 1024w, https://carpassai.images.ilsa.cloud/ac017fed-d5bc-463b-85e0-bbce1eacfd55.webp 2048w\\\\\"}], \\\\\"powertrain\\\\\": {\\\\\"engine\\\\\": {\\\\\"energy\\\\\": {\\\\\"type\\\\\": {\\\\\"category\\\\\": {\\\\\"display_value\\\\\": \\\\\"Benzine\\\\\", \\\\\"key\\\\\": \\\\\"petrol\\\\\"}, \\\\\"code\\\\\": {\\\\\"display_value\\\\\": \\\\\"Benzine\\\\\"}}}}, \\\\\"transmission\\\\\": {\\\\\"type\\\\\": {\\\\\"display_value\\\\\": \\\\\"Automaat\\\\\", \\\\\"key\\\\\": \\\\\"automatic\\\\\"}}}, \\\\\"region_specific\\\\\": {\\\\\"nl\\\\\": {\\\\\"nap_weblabel\\\\\": false}}, \\\\\"sales_conditions\\\\\": {\\\\\"margin_scheme\\\\\": {\\\\\"key\\\\\": \\\\\"margin\\\\\"}, \\\\\"pricing\\\\\": {\\\\\"asking\\\\\": {\\\\\"consumer\\\\\": {\\\\\"amount\\\\\": 22995, \\\\\"formatted\\\\\": \\\\\"\\\\\\\\u20ac 22.995\\\\\"}}, \\\\\"consumer\\\\\": {\\\\\"excl_vat\\\\\": {\\\\\"formatted\\\\\": \\\\\"\\\\\\\\u20ac 22.995\\\\\"}, \\\\\"incl_vat\\\\\": {\\\\\"amount\\\\\": 22995, \\\\\"formatted\\\\\": \\\\\"\\\\\\\\u20ac 22.995\\\\\"}}}}}, {\\\\\"id\\\\\": \\\\\"3414497-1\\\\\", \\\\\"advertiser\\\\\": {\\\\\"accepts_leads\\\\\": true, \\\\\"city\\\\\": \\\\\"Naarden\\\\\", \\\\\"email\\\\\": \\\\\"info@jvk.nl\\\\\", \\\\\"housenumber\\\\\": 15, \\\\\"id\\\\\": \\\\\"4170\\\\\", \\\\\"name\\\\\": \\\\\"Janssen Van Kouwen Naarden\\\\\", \\\\\"postal_code\\\\\": \\\\\"1411DE\\\\\", \\\\\"street\\\\\": \\\\\"Gooimeer \\\\\", \\\\\"telephone\\\\\": \\\\\"035-2032950\\\\\"}, \\\\\"body\\\\\": {\\\\\"colour\\\\\": {\\\\\"primary\\\\\": {\\\\\"display_value\\\\\": \\\\\"Wit\\\\\", \\\\\"key\\\\\": \\\\\"white\\\\\"}}}, \\\\\"condition\\\\\": {\\\\\"odometer\\\\\": {\\\\\"formatted\\\\\": \\\\\"39.689 km\\\\\", \\\\\"value_in_km\\\\\": 39689}}, \\\\\"description\\\\\": {\\\\\"title\\\\\": \\\\\"Toyota Aygo 1.0 VVT-i x-play Achteruitrijcamera / Apple CarPlay / Android Auto / Airco\\\\\"}, \\\\\"features\\\\\": {\\\\\"air_conditioning\\\\\": true}, \\\\\"general\\\\\": {\\\\\"year\\\\\": 2020, \\\\\"bodystyle\\\\\": {\\\\\"category\\\\\": {\\\\\"display_value\\\\\": \\\\\"Hatchback\\\\\", \\\\\"key\\\\\": \\\\\"hatchback\\\\\"}, \\\\\"code\\\\\": {\\\\\"display_value\\\\\": \\\\\"Hatchback\\\\\", \\\\\"key\\\\\": \\\\\"hatchback\\\\\"}}, \\\\\"make\\\\\": {\\\\\"name\\\\\": \\\\\"Toyota\\\\\", \\\\\"normalized\\\\\": {\\\\\"display_value\\\\\": \\\\\"Toyota\\\\\", \\\\\"key\\\\\": \\\\\"toyota\\\\\"}}, \\\\\"model\\\\\": {\\\\\"name\\\\\": \\\\\"Aygo\\\\\", \\\\\"normalized\\\\\": {\\\\\"display_value\\\\\": \\\\\"Aygo\\\\\", \\\\\"key\\\\\": \\\\\"toyota/aygo\\\\\"}}, \\\\\"type\\\\\": {\\\\\"name\\\\\": \\\\\"1.0 VVT-i x-play\\\\\", \\\\\"supplement\\\\\": \\\\\"Achteruitrijcamera / Apple CarPlay / Android Auto / Airco\\\\\"}}, \\\\\"identification\\\\\": {\\\\\"slug\\\\\": \\\\\"toyota-aygo-10-vvt-i-x-play-benzine\\\\\"}, \\\\\"images\\\\\": [{\\\\\"srcset\\\\\": \\\\\"https://carpassai.images.ilsa.cloud/376ef1f2-d8ad-4f10-aa40-c7c29c957ea1.webp 320w, https://carpassai.images.ilsa.cloud/1d35930e-569d-402c-b89e-459fc5a57a3f.webp 480w, https://carpassai.images.ilsa.cloud/fac91e17-ae84-4621-a9ef-18d7507ac223.webp 640w, https://carpassai.images.ilsa.cloud/4f5ab00b-e2d6-4936-bc6c-0bc67c20727e.webp 1024w, https://carpassai.images.ilsa.cloud/f7260f74-de98-45ad-ba1d-dcf5ba666681.webp 2048w\\\\\"}], \\\\\"powertrain\\\\\": {\\\\\"engine\\\\\": {\\\\\"energy\\\\\": {\\\\\"type\\\\\": {\\\\\"category\\\\\": {\\\\\"display_value\\\\\": \\\\\"Benzine\\\\\", \\\\\"key\\\\\": \\\\\"petrol\\\\\"}, \\\\\"code\\\\\": {\\\\\"display_value\\\\\": \\\\\"Benzine\\\\\"}}}}, \\\\\"transmission\\\\\": {\\\\\"type\\\\\": {\\\\\"display_value\\\\\": \\\\\"Handgeschakeld\\\\\", \\\\\"key\\\\\": \\\\\"manual\\\\\"}}}, \\\\\"region_specific\\\\\": {\\\\\"nl\\\\\": {\\\\\"nap_weblabel\\\\\": true}}, \\\\\"sales_conditions\\\\\": {\\\\\"margin_scheme\\\\\": {\\\\\"key\\\\\": \\\\\"vat\\\\\"}, \\\\\"pricing\\\\\": {\\\\\"asking\\\\\": {\\\\\"consumer\\\\\": {\\\\\"amount\\\\\": 11890, \\\\\"formatted\\\\\": \\\\\"\\\\\\\\u20ac 11.890\\\\\"}}, \\\\\"consumer\\\\\": {\\\\\"excl_vat\\\\\": {\\\\\"formatted\\\\\": \\\\\"\\\\\\\\u20ac 9.933\\\\\"}, \\\\\"incl_vat\\\\\": {\\\\\"amount\\\\\": 11890, \\\\\"formatted\\\\\": \\\\\"\\\\\\\\u20ac 11.890\\\\\"}}}}}, {\\\\\"id\\\\\": \\\\\"227116707-1\\\\\", \\\\\"advertiser\\\\\": {\\\\\"accepts_leads\\\\\": true, \\\\\"city\\\\\": \\\\\"Rotterdam\\\\\", \\\\\"email\\\\\": \\\\\"info@xpeng-rotterdam.nl\\\\\", \\\\\"housenumber\\\\\": 10, \\\\\"id\\\\\": \\\\\"3968\\\\\", \\\\\"name\\\\\": \\\\\"XPENG center Rotterdam\\\\\", \\\\\"postal_code\\\\\": \\\\\"3063NP\\\\\", \\\\\"street\\\\\": \\\\\"Autolettestraat \\\\\", \\\\\"telephone\\\\\": \\\\\"0107525010\\\\\"}, \\\\\"body\\\\\": {\\\\\"colour\\\\\": {\\\\\"primary\\\\\": {\\\\\"display_value\\\\\": \\\\\"Rood\\\\\", \\\\\"key\\\\\": \\\\\"red\\\\\"}}}, \\\\\"condition\\\\\": {\\\\\"odometer\\\\\": {\\\\\"formatted\\\\\": \\\\\"14.181 km\\\\\", \\\\\"value_in_km\\\\\": 14181}}, \\\\\"description\\\\\": {\\\\\"title\\\\\": \\\\\"Toyota Yaris 1.0 VVT-i Comfort Airco | Bluetooth\\\\\"}, \\\\\"features\\\\\": {\\\\\"air_conditioning\\\\\": true}, \\\\\"general\\\\\": {\\\\\"year\\\\\": 2020, \\\\\"bodystyle\\\\\": {\\\\\"category\\\\\": {\\\\\"display_value\\\\\": \\\\\"Hatchback\\\\\", \\\\\"key\\\\\": \\\\\"hatchback\\\\\"}, \\\\\"code\\\\\": {\\\\\"display_value\\\\\": \\\\\"Hatchback\\\\\", \\\\\"key\\\\\": \\\\\"hatchback\\\\\"}}, \\\\\"make\\\\\": {\\\\\"name\\\\\": \\\\\"Toyota\\\\\", \\\\\"normalized\\\\\": {\\\\\"display_value\\\\\": \\\\\"Toyota\\\\\", \\\\\"key\\\\\": \\\\\"toyota\\\\\"}}, \\\\\"model\\\\\": {\\\\\"name\\\\\": \\\\\"Yaris\\\\\", \\\\\"normalized\\\\\": {\\\\\"display_value\\\\\": \\\\\"Yaris\\\\\", \\\\\"key\\\\\": \\\\\"toyota/yaris\\\\\"}}, \\\\\"type\\\\\": {\\\\\"name\\\\\": \\\\\"1.0 VVT-i Comfort\\\\\", \\\\\"supplement\\\\\": \\\\\"Airco | Bluetooth\\\\\"}}, \\\\\"identification\\\\\": {\\\\\"slug\\\\\": \\\\\"toyota-yaris-10-vvt-i-comfort-airco-bluetooth\\\\\"}, \\\\\"images\\\\\": [{\\\\\"srcset\\\\\": \\\\\"https://carpassai.images.ilsa.cloud/0b0bad41-f236-4046-8268-e3df8f8f339c.webp 320w, https://carpassai.images.ilsa.cloud/5f83d4d1-7b83-4946-9a3e-9f0bb39332f1.webp 480w, https://carpassai.images.ilsa.cloud/7cec39f8-d663-4c40-aaeb-86194f92aaa0.webp 640w, https://carpassai.images.ilsa.cloud/f83802e5-1eb2-4860-9048-42ae3d3d40b9.webp 1024w, https://carpassai.images.ilsa.cloud/fa67cbce-ee79-4e42-af9d-6c7141f2c1dc.webp 1920w\\\\\"}], \\\\\"powertrain\\\\\": {\\\\\"engine\\\\\": {\\\\\"energy\\\\\": {\\\\\"type\\\\\": {\\\\\"category\\\\\": {\\\\\"display_value\\\\\": \\\\\"Benzine\\\\\", \\\\\"key\\\\\": \\\\\"petrol\\\\\"}, \\\\\"code\\\\\": {\\\\\"display_value\\\\\": \\\\\"Benzine\\\\\"}}}}, \\\\\"transmission\\\\\": {\\\\\"type\\\\\": {\\\\\"display_value\\\\\": \\\\\"Handgeschakeld\\\\\", \\\\\"key\\\\\": \\\\\"manual\\\\\"}}}, \\\\\"region_specific\\\\\": {\\\\\"nl\\\\\": {\\\\\"nap_weblabel\\\\\": true}}, \\\\\"sales_conditions\\\\\": {\\\\\"margin_scheme\\\\\": {\\\\\"key\\\\\": \\\\\"vat\\\\\"}, \\\\\"pricing\\\\\": {\\\\\"asking\\\\\": {\\\\\"consumer\\\\\": {\\\\\"amount\\\\\": 14900, \\\\\"formatted\\\\\": \\\\\"\\\\\\\\u20ac 14.900\\\\\"}}, \\\\\"consumer\\\\\": {\\\\\"excl_vat\\\\\": {\\\\\"formatted\\\\\": \\\\\"\\\\\\\\u20ac 12.581\\\\\"}, \\\\\"incl_vat\\\\\": {\\\\\"amount\\\\\": 14900, \\\\\"formatted\\\\\": \\\\\"\\\\\\\\u20ac 14.900\\\\\"}}}}}, {\\\\\"id\\\\\": \\\\\"66520263-1\\\\\", \\\\\"advertiser\\\\\": {\\\\\"accepts_leads\\\\\": true, \\\\\"city\\\\\": \\\\\"Eefde\\\\\", \\\\\"email\\\\\": \\\\\"verkoop@autoserviceeefde.nl\\\\\", \\\\\"housenumber\\\\\": 73, \\\\\"id\\\\\": \\\\\"4041\\\\\", \\\\\"name\\\\\": \\\\\"Auto Service Eefde\\\\\", \\\\\"postal_code\\\\\": \\\\\"7211EB\\\\\", \\\\\"street\\\\\": \\\\\"Zutphenseweg \\\\\", \\\\\"telephone\\\\\": \\\\\"0575-540317\\\\\"}, \\\\\"body\\\\\": {\\\\\"colour\\\\\": {\\\\\"primary\\\\\": {\\\\\"display_value\\\\\": \\\\\"Wit\\\\\", \\\\\"key\\\\\": \\\\\"white\\\\\"}}}, \\\\\"condition\\\\\": {\\\\\"odometer\\\\\": {\\\\\"formatted\\\\\": \\\\\"101.289 km\\\\\", \\\\\"value_in_km\\\\\": 101289}}, \\\\\"description\\\\\": {\\\\\"title\\\\\": \\\\\"Toyota Aygo 1.0 VVT-i X-Wave Cabrio\\\\\"}, \\\\\"features\\\\\": {\\\\\"air_conditioning\\\\\": true}, \\\\\"general\\\\\": {\\\\\"year\\\\\": 2016, \\\\\"bodystyle\\\\\": {\\\\\"category\\\\\": {\\\\\"display_value\\\\\": \\\\\"Hatchback\\\\\", \\\\\"key\\\\\": \\\\\"hatchback\\\\\"}, \\\\\"code\\\\\": {\\\\\"display_value\\\\\": \\\\\"Hatchback\\\\\", \\\\\"key\\\\\": \\\\\"hatchback\\\\\"}}, \\\\\"make\\\\\": {\\\\\"name\\\\\": \\\\\"Toyota\\\\\", \\\\\"normalized\\\\\": {\\\\\"display_value\\\\\": \\\\\"Toyota\\\\\", \\\\\"key\\\\\": \\\\\"toyota\\\\\"}}, \\\\\"model\\\\\": {\\\\\"name\\\\\": \\\\\"Aygo\\\\\", \\\\\"normalized\\\\\": {\\\\\"display_value\\\\\": \\\\\"Aygo\\\\\", \\\\\"key\\\\\": \\\\\"toyota/aygo\\\\\"}}, \\\\\"type\\\\\": {\\\\\"name\\\\\": \\\\\"1.0 VVT-i X-Wave Cabrio\\\\\"}}, \\\\\"identification\\\\\": {\\\\\"slug\\\\\": \\\\\"toyota-aygo-10-vvt-i-x-wave-cabrio-benzine\\\\\"}, \\\\\"images\\\\\": [{\\\\\"srcset\\\\\": \\\\\"https://carpassai.images.ilsa.cloud/56f8243d-2963-4400-953b-e74690d45f96.webp 320w, https://carpassai.images.ilsa.cloud/f835d511-b134-4526-9bfd-461186ffd5e2.webp 480w, https://carpassai.images.ilsa.cloud/ab7e22ad-8912-4d64-83c6-0c781c542e05.webp 640w, https://carpassai.images.ilsa.cloud/8ac9e68d-de78-46ba-aceb-be26fd3d6b40.webp 1024w, https://carpassai.images.ilsa.cloud/8ac9e68d-de78-46ba-aceb-be26fd3d6b40.webp 1024w\\\\\"}], \\\\\"powertrain\\\\\": {\\\\\"engine\\\\\": {\\\\\"energy\\\\\": {\\\\\"type\\\\\": {\\\\\"category\\\\\": {\\\\\"display_value\\\\\": \\\\\"Benzine\\\\\", \\\\\"key\\\\\": \\\\\"petrol\\\\\"}, \\\\\"code\\\\\": {\\\\\"display_value\\\\\": \\\\\"Benzine\\\\\"}}}}, \\\\\"transmission\\\\\": {\\\\\"type\\\\\": {\\\\\"display_value\\\\\": \\\\\"Handgeschakeld\\\\\", \\\\\"key\\\\\": \\\\\"manual\\\\\"}}}, \\\\\"region_specific\\\\\": {\\\\\"nl\\\\\": {\\\\\"nap_weblabel\\\\\": true}}, \\\\\"sales_conditions\\\\\": {\\\\\"margin_scheme\\\\\": {\\\\\"key\\\\\": \\\\\"margin\\\\\"}, \\\\\"pricing\\\\\": {\\\\\"asking\\\\\": {\\\\\"consumer\\\\\": {\\\\\"amount\\\\\": 9799, \\\\\"formatted\\\\\": \\\\\"\\\\\\\\u20ac 9.799\\\\\"}}, \\\\\"consumer\\\\\": {\\\\\"excl_vat\\\\\": {\\\\\"formatted\\\\\": \\\\\"\\\\\\\\u20ac 9.799\\\\\"}, \\\\\"incl_vat\\\\\": {\\\\\"amount\\\\\": 9799, \\\\\"formatted\\\\\": \\\\\"\\\\\\\\u20ac 9.799\\\\\"}}}}}, {\\\\\"id\\\\\": \\\\\"201077920-1\\\\\", \\\\\"advertiser\\\\\": {\\\\\"accepts_leads\\\\\": false, \\\\\"city\\\\\": \\\\\"Nykerk\\\\\", \\\\\"email\\\\\": \\\\\"info@fortisautomotive.nl\\\\\", \\\\\"housenumber\\\\\": 90, \\\\\"id\\\\\": \\\\\"1264\\\\\", \\\\\"name\\\\\": \\\\\"Fortis Automotive\\\\\", \\\\\"postal_code\\\\\": \\\\\"3861MA\\\\\", \\\\\"street\\\\\": \\\\\"Watergoorweg\\\\\", \\\\\"telephone\\\\\": \\\\\"033-3030264\\\\\"}, \\\\\"body\\\\\": {\\\\\"colour\\\\\": {\\\\\"primary\\\\\": {\\\\\"display_value\\\\\": \\\\\"Grijs\\\\\", \\\\\"key\\\\\": \\\\\"grey\\\\\"}}}, \\\\\"condition\\\\\": {\\\\\"odometer\\\\\": {\\\\\"formatted\\\\\": \\\\\"156.798 km\\\\\", \\\\\"value_in_km\\\\\": 156798}}, \\\\\"description\\\\\": {\\\\\"title\\\\\": \\\\\"Toyota Prius 1.8 Plug-in Executive Business CAMERA | NAVI | NL-AUTO | LEDER | \\\\\"}, \\\\\"features\\\\\": {\\\\\"air_conditioning\\\\\": true, \\\\\"climate_control\\\\\": true, \\\\\"cruise_control\\\\\": true}, \\\\\"general\\\\\": {\\\\\"year\\\\\": 2013, \\\\\"bodystyle\\\\\": {\\\\\"category\\\\\": {\\\\\"display_value\\\\\": \\\\\"Hatchback\\\\\", \\\\\"key\\\\\": \\\\\"hatchback\\\\\"}, \\\\\"code\\\\\": {\\\\\"display_value\\\\\": \\\\\"Hatchback\\\\\", \\\\\"key\\\\\": \\\\\"hatchback\\\\\"}}, \\\\\"make\\\\\": {\\\\\"name\\\\\": \\\\\"Toyota\\\\\", \\\\\"normalized\\\\\": {\\\\\"display_value\\\\\": \\\\\"Toyota\\\\\", \\\\\"key\\\\\": \\\\\"toyota\\\\\"}}, \\\\\"model\\\\\": {\\\\\"name\\\\\": \\\\\"Prius\\\\\", \\\\\"normalized\\\\\": {\\\\\"display_value\\\\\": \\\\\"Prius\\\\\", \\\\\"key\\\\\": \\\\\"toyota/prius\\\\\"}}, \\\\\"type\\\\\": {\\\\\"name\\\\\": \\\\\"1.8 Plug-in Executive Business\\\\\", \\\\\"supplement\\\\\": \\\\\"CAMERA | NAVI | NL-AUTO | LEDER | \\\\\"}}, \\\\\"identification\\\\\": {\\\\\"slug\\\\\": \\\\\"toyota-prius-18-plug-in-executive-business-hybride\\\\\"}, \\\\\"images\\\\\": [{\\\\\"srcset\\\\\": \\\\\"https://carpassai.images.ilsa.cloud/b41477ab-bdff-45aa-a6d5-5fa360aa285b.webp 320w, https://carpassai.images.ilsa.cloud/4d5c80ba-b5c3-46a9-9ea1-63f42a3b3dfd.webp 480w, https://carpassai.images.ilsa.cloud/dcd1fae2-119c-40ef-9794-bb9266f86321.webp 640w, https://carpassai.images.ilsa.cloud/04636f56-b478-46b5-b7f0-5765c4b7e651.webp 1024w, https://carpassai.images.ilsa.cloud/e86b30f0-37c4-4208-aca4-bb5ba3be592b.webp 1920w\\\\\"}], \\\\\"powertrain\\\\\": {\\\\\"engine\\\\\": {\\\\\"energy\\\\\": {\\\\\"type\\\\\": {\\\\\"category\\\\\": {\\\\\"display_value\\\\\": \\\\\"Hybride\\\\\", \\\\\"key\\\\\": \\\\\"hybrid\\\\\"}, \\\\\"code\\\\\": {\\\\\"display_value\\\\\": \\\\\"Hybride (benzine/elektrisch)\\\\\"}}}}, \\\\\"transmission\\\\\": {\\\\\"type\\\\\": {\\\\\"display_value\\\\\": \\\\\"Automaat\\\\\", \\\\\"key\\\\\": \\\\\"automatic\\\\\"}}}, \\\\\"region_specific\\\\\": {\\\\\"nl\\\\\": {\\\\\"nap_weblabel\\\\\": true}}, \\\\\"sales_conditions\\\\\": {\\\\\"margin_scheme\\\\\": {\\\\\"key\\\\\": \\\\\"margin\\\\\"}, \\\\\"pricing\\\\\": {\\\\\"asking\\\\\": {\\\\\"consumer\\\\\": {\\\\\"amount\\\\\": 13900, \\\\\"formatted\\\\\": \\\\\"\\\\\\\\u20ac 13.900\\\\\"}}, \\\\\"consumer\\\\\": {\\\\\"excl_vat\\\\\": {\\\\\"formatted\\\\\": \\\\\"\\\\\\\\u20ac 13.900\\\\\"}, \\\\\"incl_vat\\\\\": {\\\\\"amount\\\\\": 13900, \\\\\"formatted\\\\\": \\\\\"\\\\\\\\u20ac 13.900\\\\\"}}}}}, {\\\\\"id\\\\\": \\\\\"453678749-1\\\\\", \\\\\"advertiser\\\\\": {\\\\\"accepts_leads\\\\\": true, \\\\\"city\\\\\": \\\\\"Amsterdam Zuidoost\\\\\", \\\\\"email\\\\\": \\\\\"sales.toyota.amsterdam@louwman.nl\\\\\", \\\\\"housenumber\\\\\": 64, \\\\\"id\\\\\": \\\\\"393\\\\\", \\\\\"name\\\\\": \\\\\"Louwman Amsterdam\\\\\", \\\\\"postal_code\\\\\": \\\\\"1101GC\\\\\", \\\\\"street\\\\\": \\\\\"Keienbergweg\\\\\", \\\\\"telephone\\\\\": \\\\\"020-5650610\\\\\"}, \\\\\"body\\\\\": {\\\\\"colour\\\\\": {\\\\\"primary\\\\\": {\\\\\"display_value\\\\\": \\\\\"Geel\\\\\", \\\\\"key\\\\\": \\\\\"yellow\\\\\"}}}, \\\\\"condition\\\\\": {\\\\\"odometer\\\\\": {\\\\\"formatted\\\\\": \\\\\"30.035 km\\\\\", \\\\\"value_in_km\\\\\": 30035}}, \\\\\"description\\\\\": {\\\\\"title\\\\\": \\\\\"Toyota Yaris Cross 1.5 Hybrid Business Limited | Navigatie | Parkeercamera + Sensoren |\\\\\"}, \\\\\"features\\\\\": {\\\\\"air_conditioning\\\\\": true, \\\\\"climate_control\\\\\": true, \\\\\"cruise_control\\\\\": true}, \\\\\"general\\\\\": {\\\\\"year\\\\\": 2022, \\\\\"bodystyle\\\\\": {\\\\\"category\\\\\": {\\\\\"display_value\\\\\": \\\\\"SUV\\\\\", \\\\\"key\\\\\": \\\\\"suv\\\\\"}, \\\\\"code\\\\\": {\\\\\"display_value\\\\\": \\\\\"SUV\\\\\", \\\\\"key\\\\\": \\\\\"suv\\\\\"}}, \\\\\"make\\\\\": {\\\\\"name\\\\\": \\\\\"Toyota\\\\\", \\\\\"normalized\\\\\": {\\\\\"display_value\\\\\": \\\\\"Toyota\\\\\", \\\\\"key\\\\\": \\\\\"toyota\\\\\"}}, \\\\\"model\\\\\": {\\\\\"name\\\\\": \\\\\"Yaris Cross\\\\\", \\\\\"normalized\\\\\": {\\\\\"display_value\\\\\": \\\\\"Yaris Cross\\\\\", \\\\\"key\\\\\": \\\\\"toyota/yariscross\\\\\"}}, \\\\\"type\\\\\": {\\\\\"name\\\\\": \\\\\"1.5 Hybrid Business Limited\\\\\", \\\\\"supplement\\\\\": \\\\\"| Navigatie | Parkeercamera + Sensoren |\\\\\"}}, \\\\\"identification\\\\\": {\\\\\"slug\\\\\": \\\\\"toyota-yaris-cross-15-hybrid-business-limited-hybride\\\\\"}, \\\\\"images\\\\\": [{\\\\\"srcset\\\\\": \\\\\"https://carpassai.images.ilsa.cloud/d36535aa-b3e9-4324-ad1a-4151d2026d4c.webp 320w, https://carpassai.images.ilsa.cloud/6f708aec-a3ea-46e7-9186-ee289907a452.webp 480w, https://carpassai.images.ilsa.cloud/f046d55b-d847-48c2-a43f-053a86aa1f60.webp 640w, https://carpassai.images.ilsa.cloud/0a71a18a-35c6-4e4d-a8af-724c8fd72ad1.webp 1024w, https://carpassai.images.ilsa.cloud/877fe83f-3ed1-4c47-a245-fdb8551c87aa.webp 1920w\\\\\"}], \\\\\"powertrain\\\\\": {\\\\\"engine\\\\\": {\\\\\"energy\\\\\": {\\\\\"type\\\\\": {\\\\\"category\\\\\": {\\\\\"display_value\\\\\": \\\\\"Hybride\\\\\", \\\\\"key\\\\\": \\\\\"hybrid\\\\\"}, \\\\\"code\\\\\": {\\\\\"display_value\\\\\": \\\\\"Hybride (benzine/elektrisch)\\\\\"}}}}, \\\\\"transmission\\\\\": {\\\\\"type\\\\\": {\\\\\"display_value\\\\\": \\\\\"Automaat\\\\\", \\\\\"key\\\\\": \\\\\"automatic\\\\\"}}}, \\\\\"region_specific\\\\\": {\\\\\"nl\\\\\": {\\\\\"nap_weblabel\\\\\": false}}, \\\\\"sales_conditions\\\\\": {\\\\\"margin_scheme\\\\\": {\\\\\"key\\\\\": \\\\\"vat\\\\\"}, \\\\\"pricing\\\\\": {\\\\\"asking\\\\\": {\\\\\"consumer\\\\\": {\\\\\"amount\\\\\": 28945, \\\\\"formatted\\\\\": \\\\\"\\\\\\\\u20ac 28.945\\\\\"}}, \\\\\"consumer\\\\\": {\\\\\"excl_vat\\\\\": {\\\\\"formatted\\\\\": \\\\\"\\\\\\\\u20ac 24.958\\\\\"}, \\\\\"incl_vat\\\\\": {\\\\\"amount\\\\\": 28945, \\\\\"formatted\\\\\": \\\\\"\\\\\\\\u20ac 28.945\\\\\"}}}}}, {\\\\\"id\\\\\": \\\\\"499094369-1\\\\\", \\\\\"advertiser\\\\\": {\\\\\"accepts_leads\\\\\": true, \\\\\"city\\\\\": \\\\\"Purmerend\\\\\", \\\\\"email\\\\\": \\\\\"sales.toyota.purmerend@louwman.nl\\\\\", \\\\\"housenumber\\\\\": 9, \\\\\"id\\\\\": \\\\\"60\\\\\", \\\\\"name\\\\\": \\\\\"Louwman Purmerend\\\\\", \\\\\"postal_code\\\\\": \\\\\"1446AB\\\\\", \\\\\"street\\\\\": \\\\\"Binnenzeestraat\\\\\", \\\\\"telephone\\\\\": \\\\\"0299-480040\\\\\"}, \\\\\"body\\\\\": {\\\\\"colour\\\\\": {\\\\\"primary\\\\\": {\\\\\"display_value\\\\\": \\\\\"Groen\\\\\", \\\\\"key\\\\\": \\\\\"green\\\\\"}}}, \\\\\"condition\\\\\": {\\\\\"odometer\\\\\": {\\\\\"formatted\\\\\": \\\\\"3.221 km\\\\\", \\\\\"value_in_km\\\\\": 3221}}, \\\\\"description\\\\\": {\\\\\"title\\\\\": \\\\\"Toyota Yaris 1.5 Hybrid Active *DEMO*\\\\\"}, \\\\\"features\\\\\": {\\\\\"air_conditioning\\\\\": true, \\\\\"climate_control\\\\\": true, \\\\\"cruise_control\\\\\": true}, \\\\\"general\\\\\": {\\\\\"year\\\\\": 2024, \\\\\"bodystyle\\\\\": {\\\\\"category\\\\\": {\\\\\"display_value\\\\\": \\\\\"Hatchback\\\\\", \\\\\"key\\\\\": \\\\\"hatchback\\\\\"}, \\\\\"code\\\\\": {\\\\\"display_value\\\\\": \\\\\"Hatchback\\\\\", \\\\\"key\\\\\": \\\\\"hatchback\\\\\"}}, \\\\\"make\\\\\": {\\\\\"name\\\\\": \\\\\"Toyota\\\\\", \\\\\"normalized\\\\\": {\\\\\"display_value\\\\\": \\\\\"Toyota\\\\\", \\\\\"key\\\\\": \\\\\"toyota\\\\\"}}, \\\\\"model\\\\\": {\\\\\"name\\\\\": \\\\\"Yaris\\\\\", \\\\\"normalized\\\\\": {\\\\\"display_value\\\\\": \\\\\"Yaris\\\\\", \\\\\"key\\\\\": \\\\\"toyota/yaris\\\\\"}}, \\\\\"type\\\\\": {\\\\\"name\\\\\": \\\\\"1.5 Hybrid Active\\\\\", \\\\\"supplement\\\\\": \\\\\"*DEMO*\\\\\"}}, \\\\\"identification\\\\\": {\\\\\"slug\\\\\": \\\\\"toyota-yaris-15-hybrid-active-hybride\\\\\"}, \\\\\"images\\\\\": [{\\\\\"srcset\\\\\": \\\\\"https://carpassai.images.ilsa.cloud/53e6a9cf-ee71-46b4-8447-5fd262180105.webp 320w, https://carpassai.images.ilsa.cloud/cd3d1bb1-ea28-408c-b79e-c95e2ed0e7ca.webp 480w, https://carpassai.images.ilsa.cloud/d5891f8b-01c0-4f5b-b9d7-dc7ba2c7caba.webp 640w, https://carpassai.images.ilsa.cloud/67c56be5-9746-4106-8335-ec582a8baf87.webp 1024w, https://carpassai.images.ilsa.cloud/461e6b4a-6000-40bc-a25f-70badfd5cd97.webp 1920w\\\\\"}], \\\\\"powertrain\\\\\": {\\\\\"engine\\\\\": {\\\\\"energy\\\\\": {\\\\\"type\\\\\": {\\\\\"category\\\\\": {\\\\\"display_value\\\\\": \\\\\"Hybride\\\\\", \\\\\"key\\\\\": \\\\\"hybrid\\\\\"}, \\\\\"code\\\\\": {\\\\\"display_value\\\\\": \\\\\"Hybride (benzine/elektrisch)\\\\\"}}}}, \\\\\"transmission\\\\\": {\\\\\"type\\\\\": {\\\\\"display_value\\\\\": \\\\\"Automaat\\\\\", \\\\\"key\\\\\": \\\\\"automatic\\\\\"}}}, \\\\\"region_specific\\\\\": {\\\\\"nl\\\\\": {\\\\\"nap_weblabel\\\\\": true}}, \\\\\"sales_conditions\\\\\": {\\\\\"margin_scheme\\\\\": {\\\\\"key\\\\\": \\\\\"vat\\\\\"}, \\\\\"pricing\\\\\": {\\\\\"asking\\\\\": {\\\\\"consumer\\\\\": {\\\\\"amount\\\\\": 27849, \\\\\"formatted\\\\\": \\\\\"\\\\\\\\u20ac 27.849\\\\\"}}, \\\\\"consumer\\\\\": {\\\\\"excl_vat\\\\\": {\\\\\"formatted\\\\\": \\\\\"\\\\\\\\u20ac 24.006\\\\\"}, \\\\\"incl_vat\\\\\": {\\\\\"amount\\\\\": 27849, \\\\\"formatted\\\\\": \\\\\"\\\\\\\\u20ac 27.849\\\\\"}}}}}, {\\\\\"id\\\\\": \\\\\"151204978-1\\\\\", \\\\\"advertiser\\\\\": {\\\\\"accepts_leads\\\\\": true, \\\\\"city\\\\\": \\\\\"Ridderkerk\\\\\", \\\\\"email\\\\\": \\\\\"sales.toyota.rotterdam@louwman.nl\\\\\", \\\\\"housenumber\\\\\": 5, \\\\\"id\\\\\": \\\\\"1668\\\\\", \\\\\"name\\\\\": \\\\\"Louwman Rotterdam\\\\\", \\\\\"postal_code\\\\\": \\\\\"2988CP\\\\\", \\\\\"street\\\\\": \\\\\"Schaapherderhof\\\\\", \\\\\"telephone\\\\\": \\\\\"010-4323555\\\\\"}, \\\\\"body\\\\\": {\\\\\"colour\\\\\": {\\\\\"primary\\\\\": {\\\\\"display_value\\\\\": \\\\\"Wit\\\\\", \\\\\"key\\\\\": \\\\\"white\\\\\"}}}, \\\\\"condition\\\\\": {\\\\\"odometer\\\\\": {\\\\\"formatted\\\\\": \\\\\"27.625 km\\\\\", \\\\\"value_in_km\\\\\": 27625}}, \\\\\"description\\\\\": {\\\\\"title\\\\\": \\\\\"Toyota Yaris 1.5 Hybrid Dynamic Limited | Climate Control | Camera |\\\\\"}, \\\\\"features\\\\\": {\\\\\"air_conditioning\\\\\": true, \\\\\"climate_control\\\\\": true, \\\\\"cruise_control\\\\\": true}, \\\\\"general\\\\\": {\\\\\"year\\\\\": 2022, \\\\\"bodystyle\\\\\": {\\\\\"category\\\\\": {\\\\\"display_value\\\\\": \\\\\"Hatchback\\\\\", \\\\\"key\\\\\": \\\\\"hatchback\\\\\"}, \\\\\"code\\\\\": {\\\\\"display_value\\\\\": \\\\\"Hatchback\\\\\", \\\\\"key\\\\\": \\\\\"hatchback\\\\\"}}, \\\\\"make\\\\\": {\\\\\"name\\\\\": \\\\\"Toyota\\\\\", \\\\\"normalized\\\\\": {\\\\\"display_value\\\\\": \\\\\"Toyota\\\\\", \\\\\"key\\\\\": \\\\\"toyota\\\\\"}}, \\\\\"model\\\\\": {\\\\\"name\\\\\": \\\\\"Yaris\\\\\", \\\\\"normalized\\\\\": {\\\\\"display_value\\\\\": \\\\\"Yaris\\\\\", \\\\\"key\\\\\": \\\\\"toyota/yaris\\\\\"}}, \\\\\"type\\\\\": {\\\\\"name\\\\\": \\\\\"1.5 Hybrid Dynamic Limited\\\\\", \\\\\"supplement\\\\\": \\\\\"| Climate Control | Camera |\\\\\"}}, \\\\\"identification\\\\\": {\\\\\"slug\\\\\": \\\\\"toyota-yaris-15-hybrid-dynamic-limited-hybride\\\\\"}, \\\\\"images\\\\\": [{\\\\\"srcset\\\\\": \\\\\"https://carpassai.images.ilsa.cloud/9deab15c-8043-4c08-81fb-6f2e5e28acfc.webp 320w, https://carpassai.images.ilsa.cloud/11e7c762-1842-40b2-a0c1-d596a5eb3dc1.webp 480w, https://carpassai.images.ilsa.cloud/bf363a46-43a4-4d0c-845a-83d6b14c61d5.webp 640w, https://carpassai.images.ilsa.cloud/e755575a-64c5-4030-a5cc-5dc346846518.webp 1024w, https://carpassai.images.ilsa.cloud/729f2342-2f17-4ccb-97a2-673799f135c5.webp 1920w\\\\\"}], \\\\\"powertrain\\\\\": {\\\\\"engine\\\\\": {\\\\\"energy\\\\\": {\\\\\"type\\\\\": {\\\\\"category\\\\\": {\\\\\"display_value\\\\\": \\\\\"Hybride\\\\\", \\\\\"key\\\\\": \\\\\"hybrid\\\\\"}, \\\\\"code\\\\\": {\\\\\"display_value\\\\\": \\\\\"Hybride (benzine/elektrisch)\\\\\"}}}}, \\\\\"transmission\\\\\": {\\\\\"type\\\\\": {\\\\\"display_value\\\\\": \\\\\"Automaat\\\\\", \\\\\"key\\\\\": \\\\\"automatic\\\\\"}}}, \\\\\"region_specific\\\\\": {\\\\\"nl\\\\\": {\\\\\"nap_weblabel\\\\\": false}}, \\\\\"sales_conditions\\\\\": {\\\\\"margin_scheme\\\\\": {\\\\\"key\\\\\": \\\\\"vat\\\\\"}, \\\\\"pricing\\\\\": {\\\\\"asking\\\\\": {\\\\\"consumer\\\\\": {\\\\\"amount\\\\\": 24245, \\\\\"formatted\\\\\": \\\\\"\\\\\\\\u20ac 24.245\\\\\"}}, \\\\\"consumer\\\\\": {\\\\\"excl_vat\\\\\": {\\\\\"formatted\\\\\": \\\\\"\\\\\\\\u20ac 20.515\\\\\"}, \\\\\"incl_vat\\\\\": {\\\\\"amount\\\\\": 24245, \\\\\"formatted\\\\\": \\\\\"\\\\\\\\u20ac 24.245\\\\\"}}}}}, {\\\\\"id\\\\\": \\\\\"156691900-1\\\\\", \\\\\"advertiser\\\\\": {\\\\\"accepts_leads\\\\\": true, \\\\\"city\\\\\": \\\\\"Raalte\\\\\", \\\\\"email\\\\\": \\\\\"verkoop@vanleussenraalte.nl\\\\\", \\\\\"housenumber\\\\\": 5, \\\\\"id\\\\\": \\\\\"3469\\\\\", \\\\\"name\\\\\": \\\\\"van Leussen Raalte\\\\\", \\\\\"postal_code\\\\\": \\\\\"8102HR\\\\\", \\\\\"street\\\\\": \\\\\"Klipperweg \\\\\", \\\\\"telephone\\\\\": \\\\\"0572-361616\\\\\"}, \\\\\"body\\\\\": {\\\\\"colour\\\\\": {\\\\\"primary\\\\\": {\\\\\"display_value\\\\\": \\\\\"Blauw\\\\\", \\\\\"key\\\\\": \\\\\"blue\\\\\"}}}, \\\\\"condition\\\\\": {\\\\\"odometer\\\\\": {\\\\\"formatted\\\\\": \\\\\"5 km\\\\\", \\\\\"value_in_km\\\\\": 5}}, \\\\\"description\\\\\": {\\\\\"title\\\\\": \\\\\"Toyota Aygo X MT ENVY NIEUW & DIRECT LEVERBAAR!!! NAVI KEYLESS STOELVERW PARK-SENSOREN CLIMA AD-CRUISE CAMERA\\\\\"}, \\\\\"features\\\\\": {\\\\\"air_conditioning\\\\\": true, \\\\\"climate_control\\\\\": true, \\\\\"cruise_control\\\\\": true}, \\\\\"general\\\\\": {\\\\\"year\\\\\": 2024, \\\\\"bodystyle\\\\\": {\\\\\"category\\\\\": {\\\\\"display_value\\\\\": \\\\\"Hatchback\\\\\", \\\\\"key\\\\\": \\\\\"hatchback\\\\\"}, \\\\\"code\\\\\": {\\\\\"display_value\\\\\": \\\\\"Hatchback\\\\\", \\\\\"key\\\\\": \\\\\"hatchback\\\\\"}}, \\\\\"make\\\\\": {\\\\\"name\\\\\": \\\\\"Toyota\\\\\", \\\\\"normalized\\\\\": {\\\\\"display_value\\\\\": \\\\\"Toyota\\\\\", \\\\\"key\\\\\": \\\\\"toyota\\\\\"}}, \\\\\"model\\\\\": {\\\\\"name\\\\\": \\\\\"Aygo\\\\\", \\\\\"normalized\\\\\": {\\\\\"display_value\\\\\": \\\\\"Aygo\\\\\", \\\\\"key\\\\\": \\\\\"toyota/aygo\\\\\"}}, \\\\\"type\\\\\": {\\\\\"name\\\\\": \\\\\"X MT ENVY\\\\\", \\\\\"supplement\\\\\": \\\\\"NIEUW & DIRECT LEVERBAAR!!! NAVI KEYLESS STOELVERW PARK-SENSOREN CLIMA AD-CRUISE CAMERA\\\\\"}}, \\\\\"identification\\\\\": {\\\\\"slug\\\\\": \\\\\"toyota-aygo-x-mt-envy-benzine\\\\\"}, \\\\\"images\\\\\": [{\\\\\"srcset\\\\\": \\\\\"https://carpassai.images.ilsa.cloud/16a9fa5c-0883-4ca1-87c3-dd3a6b701fcb.webp 320w, https://carpassai.images.ilsa.cloud/4f964ad1-ffe8-45c4-86f5-3339b8d5cf15.webp 480w, https://carpassai.images.ilsa.cloud/a5d681b4-b2d8-42d9-bf8c-07bb2cb423aa.webp 640w, https://carpassai.images.ilsa.cloud/48581b60-2257-48e7-909f-cd161ecb1eba.webp 1024w, https://carpassai.images.ilsa.cloud/1747281e-bc0e-41ec-bd53-348914dcee83.webp 2048w\\\\\"}], \\\\\"powertrain\\\\\": {\\\\\"engine\\\\\": {\\\\\"energy\\\\\": {\\\\\"type\\\\\": {\\\\\"category\\\\\": {\\\\\"display_value\\\\\": \\\\\"Benzine\\\\\", \\\\\"key\\\\\": \\\\\"petrol\\\\\"}, \\\\\"code\\\\\": {\\\\\"display_value\\\\\": \\\\\"Benzine\\\\\"}}}}, \\\\\"transmission\\\\\": {\\\\\"type\\\\\": {\\\\\"display_value\\\\\": \\\\\"Handgeschakeld\\\\\", \\\\\"key\\\\\": \\\\\"manual\\\\\"}}}, \\\\\"region_specific\\\\\": {\\\\\"nl\\\\\": {\\\\\"nap_weblabel\\\\\": false}}, \\\\\"sales_conditions\\\\\": {\\\\\"margin_scheme\\\\\": {\\\\\"key\\\\\": \\\\\"vat\\\\\"}, \\\\\"pricing\\\\\": {\\\\\"asking\\\\\": {\\\\\"consumer\\\\\": {\\\\\"amount\\\\\": 22700, \\\\\"formatted\\\\\": \\\\\"\\\\\\\\u20ac 22.700\\\\\"}}, \\\\\"consumer\\\\\": {\\\\\"excl_vat\\\\\": {\\\\\"formatted\\\\\": \\\\\"\\\\\\\\u20ac 19.236\\\\\"}, \\\\\"incl_vat\\\\\": {\\\\\"amount\\\\\": 22700, \\\\\"formatted\\\\\": \\\\\"\\\\\\\\u20ac 22.700\\\\\"}}}}}, {\\\\\"id\\\\\": \\\\\"497968653-1\\\\\", \\\\\"advertiser\\\\\": {\\\\\"accepts_leads\\\\\": true, \\\\\"city\\\\\": \\\\\"\\'s-Gravenzande\\\\\", \\\\\"email\\\\\": \\\\\"sales.toyota.sgravenzande@louwman.nl\\\\\", \\\\\"housenumber\\\\\": 121, \\\\\"id\\\\\": \\\\\"3675\\\\\", \\\\\"name\\\\\": \\\\\"Louwman s-Gravenzande\\\\\", \\\\\"postal_code\\\\\": \\\\\"2691JE\\\\\", \\\\\"street\\\\\": \\\\\"Monsterseweg\\\\\", \\\\\"telephone\\\\\": \\\\\"0174412492\\\\\"}, \\\\\"body\\\\\": {\\\\\"colour\\\\\": {\\\\\"primary\\\\\": {\\\\\"display_value\\\\\": \\\\\"Rood\\\\\", \\\\\"key\\\\\": \\\\\"red\\\\\"}}}, \\\\\"condition\\\\\": {\\\\\"odometer\\\\\": {\\\\\"formatted\\\\\": \\\\\"7.865 km\\\\\", \\\\\"value_in_km\\\\\": 7865}}, \\\\\"description\\\\\": {\\\\\"title\\\\\": \\\\\"Toyota Yaris 1.5 Hybrid Executive Limited\\\\\"}, \\\\\"features\\\\\": {\\\\\"air_conditioning\\\\\": true, \\\\\"climate_control\\\\\": true, \\\\\"cruise_control\\\\\": true}, \\\\\"general\\\\\": {\\\\\"year\\\\\": 2023, \\\\\"bodystyle\\\\\": {\\\\\"category\\\\\": {\\\\\"display_value\\\\\": \\\\\"Hatchback\\\\\", \\\\\"key\\\\\": \\\\\"hatchback\\\\\"}, \\\\\"code\\\\\": {\\\\\"display_value\\\\\": \\\\\"Hatchback\\\\\", \\\\\"key\\\\\": \\\\\"hatchback\\\\\"}}, \\\\\"make\\\\\": {\\\\\"name\\\\\": \\\\\"Toyota\\\\\", \\\\\"normalized\\\\\": {\\\\\"display_value\\\\\": \\\\\"Toyota\\\\\", \\\\\"key\\\\\": \\\\\"toyota\\\\\"}}, \\\\\"model\\\\\": {\\\\\"name\\\\\": \\\\\"Yaris\\\\\", \\\\\"normalized\\\\\": {\\\\\"display_value\\\\\": \\\\\"Yaris\\\\\", \\\\\"key\\\\\": \\\\\"toyota/yaris\\\\\"}}, \\\\\"type\\\\\": {\\\\\"name\\\\\": \\\\\"1.5 Hybrid Executive Limited\\\\\"}}, \\\\\"identification\\\\\": {\\\\\"slug\\\\\": \\\\\"toyota-yaris-15-hybrid-executive-limited-hybride\\\\\"}, \\\\\"images\\\\\": [{\\\\\"srcset\\\\\": \\\\\"https://carpassai.images.ilsa.cloud/cc2ab330-3fca-4de3-b146-894dfa57739e.webp 320w, https://carpassai.images.ilsa.cloud/255b25e3-1bab-491e-866d-399dad57eddf.webp 480w, https://carpassai.images.ilsa.cloud/d41ad37c-bd35-4667-9f9b-d28f22531135.webp 640w, https://carpassai.images.ilsa.cloud/73a89245-4cdf-413e-9301-17c4757b3cff.webp 1024w, https://carpassai.images.ilsa.cloud/1eb2da07-1a7b-4b85-9391-0611493cd662.webp 1920w\\\\\"}], \\\\\"powertrain\\\\\": {\\\\\"engine\\\\\": {\\\\\"energy\\\\\": {\\\\\"type\\\\\": {\\\\\"category\\\\\": {\\\\\"display_value\\\\\": \\\\\"Hybride\\\\\", \\\\\"key\\\\\": \\\\\"hybrid\\\\\"}, \\\\\"code\\\\\": {\\\\\"display_value\\\\\": \\\\\"Hybride (benzine/elektrisch)\\\\\"}}}}, \\\\\"transmission\\\\\": {\\\\\"type\\\\\": {\\\\\"display_value\\\\\": \\\\\"Automaat\\\\\", \\\\\"key\\\\\": \\\\\"automatic\\\\\"}}}, \\\\\"region_specific\\\\\": {\\\\\"nl\\\\\": {\\\\\"nap_weblabel\\\\\": false}}, \\\\\"sales_conditions\\\\\": {\\\\\"margin_scheme\\\\\": {\\\\\"key\\\\\": \\\\\"vat\\\\\"}, \\\\\"pricing\\\\\": {\\\\\"asking\\\\\": {\\\\\"consumer\\\\\": {\\\\\"amount\\\\\": 28945, \\\\\"formatted\\\\\": \\\\\"\\\\\\\\u20ac 28.945\\\\\"}}, \\\\\"consumer\\\\\": {\\\\\"excl_vat\\\\\": {\\\\\"formatted\\\\\": \\\\\"\\\\\\\\u20ac 24.824\\\\\"}, \\\\\"incl_vat\\\\\": {\\\\\"amount\\\\\": 28945, \\\\\"formatted\\\\\": \\\\\"\\\\\\\\u20ac 28.945\\\\\"}}}}}, {\\\\\"id\\\\\": \\\\\"317666518-1\\\\\", \\\\\"advertiser\\\\\": {\\\\\"accepts_leads\\\\\": true, \\\\\"city\\\\\": \\\\\"Arnhem\\\\\", \\\\\"email\\\\\": \\\\\"herwersonline@herwers.nl\\\\\", \\\\\"housenumber\\\\\": 15, \\\\\"id\\\\\": \\\\\"2279\\\\\", \\\\\"name\\\\\": \\\\\"Herwers Arnhem\\\\\", \\\\\"postal_code\\\\\": \\\\\"6836BA\\\\\", \\\\\"street\\\\\": \\\\\"Hazenkamp \\\\\", \\\\\"telephone\\\\\": \\\\\"026-3628080\\\\\"}, \\\\\"body\\\\\": {\\\\\"colour\\\\\": {\\\\\"primary\\\\\": {\\\\\"display_value\\\\\": \\\\\"Zwart\\\\\", \\\\\"key\\\\\": \\\\\"black\\\\\"}}}, \\\\\"condition\\\\\": {\\\\\"odometer\\\\\": {\\\\\"formatted\\\\\": \\\\\"33.552 km\\\\\", \\\\\"value_in_km\\\\\": 33552}}, \\\\\"description\\\\\": {\\\\\"title\\\\\": \\\\\"Toyota Corolla 1.8 Hybrid Active\\\\\"}, \\\\\"features\\\\\": {\\\\\"air_conditioning\\\\\": true, \\\\\"climate_control\\\\\": true, \\\\\"cruise_control\\\\\": true}, \\\\\"general\\\\\": {\\\\\"year\\\\\": 2021, \\\\\"bodystyle\\\\\": {\\\\\"category\\\\\": {\\\\\"display_value\\\\\": \\\\\"Hatchback\\\\\", \\\\\"key\\\\\": \\\\\"hatchback\\\\\"}, \\\\\"code\\\\\": {\\\\\"display_value\\\\\": \\\\\"Hatchback\\\\\", \\\\\"key\\\\\": \\\\\"hatchback\\\\\"}}, \\\\\"make\\\\\": {\\\\\"name\\\\\": \\\\\"Toyota\\\\\", \\\\\"normalized\\\\\": {\\\\\"display_value\\\\\": \\\\\"Toyota\\\\\", \\\\\"key\\\\\": \\\\\"toyota\\\\\"}}, \\\\\"model\\\\\": {\\\\\"name\\\\\": \\\\\"Corolla\\\\\", \\\\\"normalized\\\\\": {\\\\\"display_value\\\\\": \\\\\"Corolla\\\\\", \\\\\"key\\\\\": \\\\\"toyota/corolla\\\\\"}}, \\\\\"type\\\\\": {\\\\\"name\\\\\": \\\\\"1.8 Hybrid Active\\\\\"}}, \\\\\"identification\\\\\": {\\\\\"slug\\\\\": \\\\\"toyota-corolla-18-hybrid-active\\\\\"}, \\\\\"images\\\\\": [{\\\\\"srcset\\\\\": \\\\\"https://carpassai.images.ilsa.cloud/4486462f-5257-41a5-b7f8-8044dfab5273.webp 320w, https://carpassai.images.ilsa.cloud/d2874032-1923-4326-b3ca-4fc05199126f.webp 480w, https://carpassai.images.ilsa.cloud/4ec67353-2a3a-4b0b-bc38-6ef6c6a3babf.webp 640w, https://carpassai.images.ilsa.cloud/2ecc2d85-d2ea-4cc0-a373-a0516423982e.webp 1024w, https://carpassai.images.ilsa.cloud/623d5ea3-117e-4abd-9fbd-5b082278ee1d.webp 2048w\\\\\"}], \\\\\"powertrain\\\\\": {\\\\\"engine\\\\\": {\\\\\"energy\\\\\": {\\\\\"type\\\\\": {\\\\\"category\\\\\": {\\\\\"display_value\\\\\": \\\\\"Hybride\\\\\", \\\\\"key\\\\\": \\\\\"hybrid\\\\\"}, \\\\\"code\\\\\": {\\\\\"display_value\\\\\": \\\\\"Hybride (benzine/elektrisch)\\\\\"}}}}, \\\\\"transmission\\\\\": {\\\\\"type\\\\\": {\\\\\"display_value\\\\\": \\\\\"Automaat\\\\\", \\\\\"key\\\\\": \\\\\"automatic\\\\\"}}}, \\\\\"region_specific\\\\\": {\\\\\"nl\\\\\": {\\\\\"nap_weblabel\\\\\": true}}, \\\\\"sales_conditions\\\\\": {\\\\\"margin_scheme\\\\\": {\\\\\"key\\\\\": \\\\\"margin\\\\\"}, \\\\\"pricing\\\\\": {\\\\\"asking\\\\\": {\\\\\"consumer\\\\\": {\\\\\"amount\\\\\": 22435, \\\\\"formatted\\\\\": \\\\\"\\\\\\\\u20ac 22.435\\\\\"}}, \\\\\"consumer\\\\\": {\\\\\"excl_vat\\\\\": {\\\\\"formatted\\\\\": \\\\\"\\\\\\\\u20ac 22.435\\\\\"}, \\\\\"incl_vat\\\\\": {\\\\\"amount\\\\\": 22435, \\\\\"formatted\\\\\": \\\\\"\\\\\\\\u20ac 22.435\\\\\"}}}}}, {\\\\\"id\\\\\": \\\\\"45360627-1\\\\\", \\\\\"advertiser\\\\\": {\\\\\"accepts_leads\\\\\": false, \\\\\"city\\\\\": \\\\\"Roggel\\\\\", \\\\\"email\\\\\": \\\\\"info@autocentermebo.nl\\\\\", \\\\\"housenumber\\\\\": 20, \\\\\"id\\\\\": \\\\\"2496\\\\\", \\\\\"name\\\\\": \\\\\"Autocenter Mebo BV\\\\\", \\\\\"postal_code\\\\\": \\\\\"6088PB\\\\\", \\\\\"street\\\\\": \\\\\"Bevelantstraat\\\\\", \\\\\"telephone\\\\\": \\\\\"0475440770\\\\\"}, \\\\\"body\\\\\": {\\\\\"colour\\\\\": {\\\\\"primary\\\\\": {\\\\\"display_value\\\\\": \\\\\"Grijs\\\\\", \\\\\"key\\\\\": \\\\\"grey\\\\\"}}}, \\\\\"condition\\\\\": {\\\\\"odometer\\\\\": {\\\\\"formatted\\\\\": \\\\\"113.250 km\\\\\", \\\\\"value_in_km\\\\\": 113250}}, \\\\\"description\\\\\": {\\\\\"title\\\\\": \\\\\"Toyota C-HR 1.8 Hybrid Dynamic automaat\\\\\"}, \\\\\"features\\\\\": {\\\\\"air_conditioning\\\\\": true, \\\\\"climate_control\\\\\": true, \\\\\"cruise_control\\\\\": true}, \\\\\"general\\\\\": {\\\\\"year\\\\\": 2017, \\\\\"bodystyle\\\\\": {\\\\\"category\\\\\": {\\\\\"display_value\\\\\": \\\\\"SUV\\\\\", \\\\\"key\\\\\": \\\\\"suv\\\\\"}, \\\\\"code\\\\\": {\\\\\"display_value\\\\\": \\\\\"SUV\\\\\", \\\\\"key\\\\\": \\\\\"suv\\\\\"}}, \\\\\"make\\\\\": {\\\\\"name\\\\\": \\\\\"Toyota\\\\\", \\\\\"normalized\\\\\": {\\\\\"display_value\\\\\": \\\\\"Toyota\\\\\", \\\\\"key\\\\\": \\\\\"toyota\\\\\"}}, \\\\\"model\\\\\": {\\\\\"name\\\\\": \\\\\"C-HR\\\\\", \\\\\"normalized\\\\\": {\\\\\"display_value\\\\\": \\\\\"C-HR\\\\\", \\\\\"key\\\\\": \\\\\"toyota/c-hr\\\\\"}}, \\\\\"type\\\\\": {\\\\\"name\\\\\": \\\\\"1.8 Hybrid Dynamic automaat\\\\\"}}, \\\\\"identification\\\\\": {\\\\\"slug\\\\\": \\\\\"toyota-c-hr-18-hybrid-dynamic-automaat\\\\\"}, \\\\\"images\\\\\": [{\\\\\"srcset\\\\\": \\\\\"https://carpassai.images.ilsa.cloud/c2b07ffc-ddd6-4566-9746-c2489509c8b3.webp 320w, https://carpassai.images.ilsa.cloud/1f8d64c9-46a3-4566-8a75-d1d65e0cac5f.webp 480w, https://carpassai.images.ilsa.cloud/0c32f44c-4981-4dbf-a5c2-8a3512bb7736.webp 640w, https://carpassai.images.ilsa.cloud/e6e4d09d-2a2c-4f50-8c78-33aeab6ddc4c.webp 1024w, https://carpassai.images.ilsa.cloud/d6fc1970-4153-4592-bea6-3e2b0928f017.webp 1920w\\\\\"}], \\\\\"powertrain\\\\\": {\\\\\"engine\\\\\": {\\\\\"energy\\\\\": {\\\\\"type\\\\\": {\\\\\"category\\\\\": {\\\\\"display_value\\\\\": \\\\\"Hybride\\\\\", \\\\\"key\\\\\": \\\\\"hybrid\\\\\"}, \\\\\"code\\\\\": {\\\\\"display_value\\\\\": \\\\\"Hybride (benzine/elektrisch)\\\\\"}}}}, \\\\\"transmission\\\\\": {\\\\\"type\\\\\": {\\\\\"display_value\\\\\": \\\\\"Automaat\\\\\", \\\\\"key\\\\\": \\\\\"automatic\\\\\"}}}, \\\\\"region_specific\\\\\": {\\\\\"nl\\\\\": {\\\\\"nap_weblabel\\\\\": true}}, \\\\\"sales_conditions\\\\\": {\\\\\"margin_scheme\\\\\": {\\\\\"key\\\\\": \\\\\"margin\\\\\"}, \\\\\"pricing\\\\\": {\\\\\"asking\\\\\": {\\\\\"consumer\\\\\": {\\\\\"amount\\\\\": 19200, \\\\\"formatted\\\\\": \\\\\"\\\\\\\\u20ac 19.200\\\\\"}}, \\\\\"consumer\\\\\": {\\\\\"excl_vat\\\\\": {\\\\\"formatted\\\\\": \\\\\"\\\\\\\\u20ac 19.200\\\\\"}, \\\\\"incl_vat\\\\\": {\\\\\"amount\\\\\": 19200, \\\\\"formatted\\\\\": \\\\\"\\\\\\\\u20ac 19.200\\\\\"}}}}}, {\\\\\"id\\\\\": \\\\\"110525593-1\\\\\", \\\\\"advertiser\\\\\": {\\\\\"accepts_leads\\\\\": false, \\\\\"city\\\\\": \\\\\"Harmelen\\\\\", \\\\\"email\\\\\": \\\\\"info@hardyautomotive.nl\\\\\", \\\\\"housenumber\\\\\": 3, \\\\\"id\\\\\": \\\\\"2780\\\\\", \\\\\"name\\\\\": \\\\\"Hardy Automotive\\\\\", \\\\\"postal_code\\\\\": \\\\\"3481MD\\\\\", \\\\\"street\\\\\": \\\\\"Industrieweg\\\\\", \\\\\"telephone\\\\\": \\\\\"0348448494\\\\\"}, \\\\\"body\\\\\": {\\\\\"colour\\\\\": {\\\\\"primary\\\\\": {\\\\\"display_value\\\\\": \\\\\"Blauw\\\\\", \\\\\"key\\\\\": \\\\\"blue\\\\\"}}}, \\\\\"condition\\\\\": {\\\\\"odometer\\\\\": {\\\\\"formatted\\\\\": \\\\\"77.630 km\\\\\", \\\\\"value_in_km\\\\\": 77630}}, \\\\\"description\\\\\": {\\\\\"title\\\\\": \\\\\"Toyota Corolla Touring Sports 1.8 Hybrid Active Navi 1e EIG NL Auto Rijklaarprijs!\\\\\"}, \\\\\"features\\\\\": {\\\\\"air_conditioning\\\\\": true, \\\\\"climate_control\\\\\": true, \\\\\"cruise_control\\\\\": true}, \\\\\"general\\\\\": {\\\\\"year\\\\\": 2019, \\\\\"bodystyle\\\\\": {\\\\\"category\\\\\": {\\\\\"display_value\\\\\": \\\\\"Stationwagon\\\\\", \\\\\"key\\\\\": \\\\\"estate\\\\\"}, \\\\\"code\\\\\": {\\\\\"display_value\\\\\": \\\\\"Stationwagon\\\\\", \\\\\"key\\\\\": \\\\\"estate\\\\\"}}, \\\\\"make\\\\\": {\\\\\"name\\\\\": \\\\\"Toyota\\\\\", \\\\\"normalized\\\\\": {\\\\\"display_value\\\\\": \\\\\"Toyota\\\\\", \\\\\"key\\\\\": \\\\\"toyota\\\\\"}}, \\\\\"model\\\\\": {\\\\\"name\\\\\": \\\\\"Corolla\\\\\", \\\\\"normalized\\\\\": {\\\\\"display_value\\\\\": \\\\\"Corolla\\\\\", \\\\\"key\\\\\": \\\\\"toyota/corolla\\\\\"}}, \\\\\"type\\\\\": {\\\\\"name\\\\\": \\\\\"Touring Sports 1.8 Hybrid Active Navi 1e EIG NL Auto Rijklaarprijs!\\\\\"}}, \\\\\"identification\\\\\": {\\\\\"slug\\\\\": \\\\\"toyota-corolla-hybride\\\\\"}, \\\\\"images\\\\\": [{\\\\\"srcset\\\\\": \\\\\"https://carpassai.images.ilsa.cloud/dbd0d7fa-222c-4b3c-b6a2-0427bddf8859.webp 320w, https://carpassai.images.ilsa.cloud/1704469b-f52e-4e31-87aa-92f51190eb4b.webp 480w, https://carpassai.images.ilsa.cloud/51991e4f-36bf-4499-95ec-6b12becedb46.webp 640w, https://carpassai.images.ilsa.cloud/57f85194-48d5-4714-9b32-e1075e3da9b3.webp 1024w, https://carpassai.images.ilsa.cloud/817f28d6-3e38-480f-8fe1-4c88feed9690.webp 1920w\\\\\"}], \\\\\"powertrain\\\\\": {\\\\\"engine\\\\\": {\\\\\"energy\\\\\": {\\\\\"type\\\\\": {\\\\\"category\\\\\": {\\\\\"display_value\\\\\": \\\\\"Hybride\\\\\", \\\\\"key\\\\\": \\\\\"hybrid\\\\\"}, \\\\\"code\\\\\": {\\\\\"display_value\\\\\": \\\\\"Hybride (benzine/elektrisch)\\\\\"}}}}, \\\\\"transmission\\\\\": {\\\\\"type\\\\\": {\\\\\"display_value\\\\\": \\\\\"Automaat\\\\\", \\\\\"key\\\\\": \\\\\"automatic\\\\\"}}}, \\\\\"region_specific\\\\\": {\\\\\"nl\\\\\": {\\\\\"nap_weblabel\\\\\": true}}, \\\\\"sales_conditions\\\\\": {\\\\\"margin_scheme\\\\\": {\\\\\"key\\\\\": \\\\\"vat\\\\\"}, \\\\\"pricing\\\\\": {\\\\\"asking\\\\\": {\\\\\"consumer\\\\\": {\\\\\"amount\\\\\": 20380, \\\\\"formatted\\\\\": \\\\\"\\\\\\\\u20ac 20.380\\\\\"}}, \\\\\"consumer\\\\\": {\\\\\"excl_vat\\\\\": {\\\\\"formatted\\\\\": \\\\\"\\\\\\\\u20ac 16.893\\\\\"}, \\\\\"incl_vat\\\\\": {\\\\\"amount\\\\\": 20380, \\\\\"formatted\\\\\": \\\\\"\\\\\\\\u20ac 20.380\\\\\"}}}}}, {\\\\\"id\\\\\": \\\\\"138021470-1\\\\\", \\\\\"advertiser\\\\\": {\\\\\"accepts_leads\\\\\": true, \\\\\"city\\\\\": \\\\\"Amsterdam Zuidoost\\\\\", \\\\\"email\\\\\": \\\\\"sales.toyota.amsterdam@louwman.nl\\\\\", \\\\\"housenumber\\\\\": 64, \\\\\"id\\\\\": \\\\\"393\\\\\", \\\\\"name\\\\\": \\\\\"Louwman Amsterdam\\\\\", \\\\\"postal_code\\\\\": \\\\\"1101GC\\\\\", \\\\\"street\\\\\": \\\\\"Keienbergweg\\\\\", \\\\\"telephone\\\\\": \\\\\"020-5650610\\\\\"}, \\\\\"body\\\\\": {\\\\\"colour\\\\\": {\\\\\"primary\\\\\": {\\\\\"display_value\\\\\": \\\\\"Rood\\\\\", \\\\\"key\\\\\": \\\\\"red\\\\\"}}}, \\\\\"condition\\\\\": {\\\\\"odometer\\\\\": {\\\\\"formatted\\\\\": \\\\\"110.357 km\\\\\", \\\\\"value_in_km\\\\\": 110357}}, \\\\\"description\\\\\": {\\\\\"title\\\\\": \\\\\"Toyota Prius 1.8 Hybrid Dynamic | NL-Auto | Navigatie | Arnhem 18-5 Dirk Stammen\\\\\"}, \\\\\"features\\\\\": {\\\\\"air_conditioning\\\\\": true, \\\\\"climate_control\\\\\": true, \\\\\"cruise_control\\\\\": true}, \\\\\"general\\\\\": {\\\\\"year\\\\\": 2016, \\\\\"bodystyle\\\\\": {\\\\\"category\\\\\": {\\\\\"display_value\\\\\": \\\\\"Hatchback\\\\\", \\\\\"key\\\\\": \\\\\"hatchback\\\\\"}, \\\\\"code\\\\\": {\\\\\"display_value\\\\\": \\\\\"Hatchback\\\\\", \\\\\"key\\\\\": \\\\\"hatchback\\\\\"}}, \\\\\"make\\\\\": {\\\\\"name\\\\\": \\\\\"Toyota\\\\\", \\\\\"normalized\\\\\": {\\\\\"display_value\\\\\": \\\\\"Toyota\\\\\", \\\\\"key\\\\\": \\\\\"toyota\\\\\"}}, \\\\\"model\\\\\": {\\\\\"name\\\\\": \\\\\"Prius\\\\\", \\\\\"normalized\\\\\": {\\\\\"display_value\\\\\": \\\\\"Prius\\\\\", \\\\\"key\\\\\": \\\\\"toyota/prius\\\\\"}}, \\\\\"type\\\\\": {\\\\\"name\\\\\": \\\\\"1.8 Hybrid Dynamic\\\\\", \\\\\"supplement\\\\\": \\\\\"| NL-Auto | Navigatie | Arnhem 18-5 Dirk Stammen\\\\\"}}, \\\\\"identification\\\\\": {\\\\\"slug\\\\\": \\\\\"toyota-prius-18-hybrid-dynamic-hybride\\\\\"}, \\\\\"images\\\\\": [{\\\\\"srcset\\\\\": \\\\\"https://carpassai.images.ilsa.cloud/978e3000-626a-4060-b490-ed8519929981.webp 320w, https://carpassai.images.ilsa.cloud/e114b50b-1ffa-4ca9-bdb7-7d281a837ec7.webp 480w, https://carpassai.images.ilsa.cloud/e9d74a91-6a68-4868-b05d-03c51c33ad4e.webp 640w, https://carpassai.images.ilsa.cloud/d449450c-e01a-42de-93a7-3225091819c4.webp 1024w, https://carpassai.images.ilsa.cloud/4b1ce11c-4f04-41f7-a6e7-907dd29fb308.webp 1920w\\\\\"}], \\\\\"powertrain\\\\\": {\\\\\"engine\\\\\": {\\\\\"energy\\\\\": {\\\\\"type\\\\\": {\\\\\"category\\\\\": {\\\\\"display_value\\\\\": \\\\\"Hybride\\\\\", \\\\\"key\\\\\": \\\\\"hybrid\\\\\"}, \\\\\"code\\\\\": {\\\\\"display_value\\\\\": \\\\\"Hybride (benzine/elektrisch)\\\\\"}}}}, \\\\\"transmission\\\\\": {\\\\\"type\\\\\": {\\\\\"display_value\\\\\": \\\\\"Automaat\\\\\", \\\\\"key\\\\\": \\\\\"automatic\\\\\"}}}, \\\\\"region_specific\\\\\": {\\\\\"nl\\\\\": {\\\\\"nap_weblabel\\\\\": true}}, \\\\\"sales_conditions\\\\\": {\\\\\"margin_scheme\\\\\": {\\\\\"key\\\\\": \\\\\"margin\\\\\"}, \\\\\"pricing\\\\\": {\\\\\"asking\\\\\": {\\\\\"consumer\\\\\": {\\\\\"amount\\\\\": 18845, \\\\\"formatted\\\\\": \\\\\"\\\\\\\\u20ac 18.845\\\\\"}}, \\\\\"consumer\\\\\": {\\\\\"excl_vat\\\\\": {\\\\\"formatted\\\\\": \\\\\"\\\\\\\\u20ac 18.845\\\\\"}, \\\\\"incl_vat\\\\\": {\\\\\"amount\\\\\": 18845, \\\\\"formatted\\\\\": \\\\\"\\\\\\\\u20ac 18.845\\\\\"}}}}}, {\\\\\"id\\\\\": \\\\\"174100617-1\\\\\", \\\\\"advertiser\\\\\": {\\\\\"accepts_leads\\\\\": false, \\\\\"city\\\\\": \\\\\"Hulst\\\\\", \\\\\"email\\\\\": \\\\\"info@vdpoel.nl\\\\\", \\\\\"housenumber\\\\\": 41, \\\\\"id\\\\\": \\\\\"3299\\\\\", \\\\\"name\\\\\": \\\\\"Autobedrijf Van der Poel B.V.\\\\\", \\\\\"postal_code\\\\\": \\\\\"4561GE\\\\\", \\\\\"street\\\\\": \\\\\"Absdaalseweg\\\\\", \\\\\"telephone\\\\\": \\\\\"0114314485\\\\\"}, \\\\\"body\\\\\": {\\\\\"colour\\\\\": {\\\\\"primary\\\\\": {\\\\\"display_value\\\\\": \\\\\"Wit\\\\\", \\\\\"key\\\\\": \\\\\"white\\\\\"}}}, \\\\\"condition\\\\\": {\\\\\"odometer\\\\\": {\\\\\"formatted\\\\\": \\\\\"130.171 km\\\\\", \\\\\"value_in_km\\\\\": 130171}}, \\\\\"description\\\\\": {\\\\\"title\\\\\": \\\\\"Toyota RAV4 2.0 VVTi Executive Business\\\\\"}, \\\\\"features\\\\\": {\\\\\"air_conditioning\\\\\": true, \\\\\"climate_control\\\\\": true, \\\\\"cruise_control\\\\\": true, \\\\\"tow_bar\\\\\": true}, \\\\\"general\\\\\": {\\\\\"year\\\\\": 2012, \\\\\"bodystyle\\\\\": {\\\\\"category\\\\\": {\\\\\"display_value\\\\\": \\\\\"SUV\\\\\", \\\\\"key\\\\\": \\\\\"suv\\\\\"}, \\\\\"code\\\\\": {\\\\\"display_value\\\\\": \\\\\"SUV\\\\\", \\\\\"key\\\\\": \\\\\"suv\\\\\"}}, \\\\\"make\\\\\": {\\\\\"name\\\\\": \\\\\"Toyota\\\\\", \\\\\"normalized\\\\\": {\\\\\"display_value\\\\\": \\\\\"Toyota\\\\\", \\\\\"key\\\\\": \\\\\"toyota\\\\\"}}, \\\\\"model\\\\\": {\\\\\"name\\\\\": \\\\\"RAV4\\\\\", \\\\\"normalized\\\\\": {\\\\\"display_value\\\\\": \\\\\"RAV4\\\\\", \\\\\"key\\\\\": \\\\\"toyota/rav4\\\\\"}}, \\\\\"type\\\\\": {\\\\\"name\\\\\": \\\\\"2.0 VVTi Executive Business\\\\\"}}, \\\\\"identification\\\\\": {\\\\\"slug\\\\\": \\\\\"toyota-rav4-20-vvti-executive-business\\\\\"}, \\\\\"images\\\\\": [{\\\\\"srcset\\\\\": \\\\\"https://carpassai.images.ilsa.cloud/2bc5bc3f-f6f3-4b78-aaa3-5ee6f83ab0d1.webp 320w, https://carpassai.images.ilsa.cloud/6620c521-c9be-4f83-abc9-5ef283c74542.webp 480w, https://carpassai.images.ilsa.cloud/59e9662f-f85c-406a-b4e0-f45401088cad.webp 640w, https://carpassai.images.ilsa.cloud/35a4d1de-7935-4f8c-9e5c-cadc3c7db5ed.webp 1024w, https://carpassai.images.ilsa.cloud/ad6c89cb-466b-4f29-bce6-ed5dcbb598e3.webp 1920w\\\\\"}], \\\\\"powertrain\\\\\": {\\\\\"engine\\\\\": {\\\\\"energy\\\\\": {\\\\\"type\\\\\": {\\\\\"category\\\\\": {\\\\\"display_value\\\\\": \\\\\"Benzine\\\\\", \\\\\"key\\\\\": \\\\\"petrol\\\\\"}, \\\\\"code\\\\\": {\\\\\"display_value\\\\\": \\\\\"Benzine\\\\\"}}}}, \\\\\"transmission\\\\\": {\\\\\"type\\\\\": {\\\\\"display_value\\\\\": \\\\\"Automaat\\\\\", \\\\\"key\\\\\": \\\\\"automatic\\\\\"}}}, \\\\\"region_specific\\\\\": {\\\\\"nl\\\\\": {\\\\\"nap_weblabel\\\\\": false}}, \\\\\"sales_conditions\\\\\": {\\\\\"margin_scheme\\\\\": {\\\\\"key\\\\\": \\\\\"margin\\\\\"}, \\\\\"pricing\\\\\": {\\\\\"asking\\\\\": {\\\\\"consumer\\\\\": {\\\\\"amount\\\\\": 16750, \\\\\"formatted\\\\\": \\\\\"\\\\\\\\u20ac 16.750\\\\\"}}, \\\\\"consumer\\\\\": {\\\\\"excl_vat\\\\\": {\\\\\"formatted\\\\\": \\\\\"\\\\\\\\u20ac 16.750\\\\\"}, \\\\\"incl_vat\\\\\": {\\\\\"amount\\\\\": 16750, \\\\\"formatted\\\\\": \\\\\"\\\\\\\\u20ac 16.750\\\\\"}}}}}, {\\\\\"id\\\\\": \\\\\"448518169-1\\\\\", \\\\\"advertiser\\\\\": {\\\\\"accepts_leads\\\\\": false, \\\\\"city\\\\\": \\\\\"Maastricht\\\\\", \\\\\"email\\\\\": \\\\\"info@regieautos.nl\\\\\", \\\\\"housenumber\\\\\": 36, \\\\\"id\\\\\": \\\\\"843\\\\\", \\\\\"name\\\\\": \\\\\"Regie Auto\\\\\\\\u2019s\\\\\", \\\\\"postal_code\\\\\": \\\\\"6224LT\\\\\", \\\\\"street\\\\\": \\\\\"Heerderdwarsstraat\\\\\", \\\\\"telephone\\\\\": \\\\\"043-6017171\\\\\"}, \\\\\"body\\\\\": {\\\\\"colour\\\\\": {\\\\\"primary\\\\\": {\\\\\"display_value\\\\\": \\\\\"Zwart\\\\\", \\\\\"key\\\\\": \\\\\"black\\\\\"}}}, \\\\\"condition\\\\\": {\\\\\"odometer\\\\\": {\\\\\"formatted\\\\\": \\\\\"158.585 km\\\\\", \\\\\"value_in_km\\\\\": 158585}}, \\\\\"description\\\\\": {\\\\\"title\\\\\": \\\\\"Toyota Auris 1.8 Hybrid Aspiration Navi Camera\\\\\"}, \\\\\"features\\\\\": {\\\\\"air_conditioning\\\\\": true, \\\\\"climate_control\\\\\": true, \\\\\"cruise_control\\\\\": true}, \\\\\"general\\\\\": {\\\\\"year\\\\\": 2016, \\\\\"bodystyle\\\\\": {\\\\\"category\\\\\": {\\\\\"display_value\\\\\": \\\\\"Hatchback\\\\\", \\\\\"key\\\\\": \\\\\"hatchback\\\\\"}, \\\\\"code\\\\\": {\\\\\"display_value\\\\\": \\\\\"Hatchback\\\\\", \\\\\"key\\\\\": \\\\\"hatchback\\\\\"}}, \\\\\"make\\\\\": {\\\\\"name\\\\\": \\\\\"Toyota\\\\\", \\\\\"normalized\\\\\": {\\\\\"display_value\\\\\": \\\\\"Toyota\\\\\", \\\\\"key\\\\\": \\\\\"toyota\\\\\"}}, \\\\\"model\\\\\": {\\\\\"name\\\\\": \\\\\"Auris\\\\\", \\\\\"normalized\\\\\": {\\\\\"display_value\\\\\": \\\\\"Auris\\\\\", \\\\\"key\\\\\": \\\\\"toyota/auris\\\\\"}}, \\\\\"type\\\\\": {\\\\\"name\\\\\": \\\\\"1.8 Hybrid Aspiration Navi Camera\\\\\"}}, \\\\\"identification\\\\\": {\\\\\"slug\\\\\": \\\\\"toyota-auris-18-hybrid-aspiration-navi-camera-hybride\\\\\"}, \\\\\"images\\\\\": [{\\\\\"srcset\\\\\": \\\\\"https://carpassai.images.ilsa.cloud/53d191d6-4751-44bf-a992-afb068f7bbae.webp 320w, https://carpassai.images.ilsa.cloud/5681a413-3a48-4e4f-886c-5c83561e9c84.webp 480w, https://carpassai.images.ilsa.cloud/4a339cf1-56b5-4c0e-9bbb-7d0300253b69.webp 640w, https://carpassai.images.ilsa.cloud/ee050222-4ec7-4022-b433-2dcc2c2d21ae.webp 1024w, https://carpassai.images.ilsa.cloud/a91817a9-53d4-40df-b3ad-513cc85d4982.webp 1920w\\\\\"}], \\\\\"powertrain\\\\\": {\\\\\"engine\\\\\": {\\\\\"energy\\\\\": {\\\\\"type\\\\\": {\\\\\"category\\\\\": {\\\\\"display_value\\\\\": \\\\\"Hybride\\\\\", \\\\\"key\\\\\": \\\\\"hybrid\\\\\"}, \\\\\"code\\\\\": {\\\\\"display_value\\\\\": \\\\\"Hybride (benzine/elektrisch)\\\\\"}}}}, \\\\\"transmission\\\\\": {\\\\\"type\\\\\": {\\\\\"display_value\\\\\": \\\\\"Automaat\\\\\", \\\\\"key\\\\\": \\\\\"automatic\\\\\"}}}, \\\\\"region_specific\\\\\": {\\\\\"nl\\\\\": {\\\\\"nap_weblabel\\\\\": false}}, \\\\\"sales_conditions\\\\\": {\\\\\"margin_scheme\\\\\": {\\\\\"key\\\\\": \\\\\"margin\\\\\"}, \\\\\"pricing\\\\\": {\\\\\"asking\\\\\": {\\\\\"consumer\\\\\": {\\\\\"amount\\\\\": 13950, \\\\\"formatted\\\\\": \\\\\"\\\\\\\\u20ac 13.950\\\\\"}}, \\\\\"consumer\\\\\": {\\\\\"excl_vat\\\\\": {\\\\\"formatted\\\\\": \\\\\"\\\\\\\\u20ac 13.950\\\\\"}, \\\\\"incl_vat\\\\\": {\\\\\"amount\\\\\": 13950, \\\\\"formatted\\\\\": \\\\\"\\\\\\\\u20ac 13.950\\\\\"}}}}}, {\\\\\"id\\\\\": \\\\\"77545310-1\\\\\", \\\\\"advertiser\\\\\": {\\\\\"accepts_leads\\\\\": false, \\\\\"city\\\\\": \\\\\"Harderwijk\\\\\", \\\\\"email\\\\\": \\\\\"info@deautomakelaargelderland.nl\\\\\", \\\\\"housenumber\\\\\": 47, \\\\\"id\\\\\": \\\\\"3260\\\\\", \\\\\"name\\\\\": \\\\\"De Automakelaar Gelderland\\\\\", \\\\\"postal_code\\\\\": \\\\\"3843WN\\\\\", \\\\\"street\\\\\": \\\\\"Thorbeckelaan\\\\\", \\\\\"telephone\\\\\": \\\\\"0641016026\\\\\"}, \\\\\"body\\\\\": {\\\\\"colour\\\\\": {\\\\\"primary\\\\\": {\\\\\"display_value\\\\\": \\\\\"Zwart\\\\\", \\\\\"key\\\\\": \\\\\"black\\\\\"}}}, \\\\\"condition\\\\\": {\\\\\"odometer\\\\\": {\\\\\"formatted\\\\\": \\\\\"44.538 km\\\\\", \\\\\"value_in_km\\\\\": 44538}}, \\\\\"description\\\\\": {\\\\\"title\\\\\": \\\\\"Toyota Yaris 1.3 VVTi Luna MMT 1E EIGENAAR|12MND GARANTIE|AUTOMAAT|LAGE KM\\\\\"}, \\\\\"features\\\\\": {\\\\\"air_conditioning\\\\\": true, \\\\\"climate_control\\\\\": true}, \\\\\"general\\\\\": {\\\\\"year\\\\\": 2006, \\\\\"bodystyle\\\\\": {\\\\\"category\\\\\": {\\\\\"display_value\\\\\": \\\\\"Hatchback\\\\\", \\\\\"key\\\\\": \\\\\"hatchback\\\\\"}, \\\\\"code\\\\\": {\\\\\"display_value\\\\\": \\\\\"Hatchback\\\\\", \\\\\"key\\\\\": \\\\\"hatchback\\\\\"}}, \\\\\"make\\\\\": {\\\\\"name\\\\\": \\\\\"Toyota\\\\\", \\\\\"normalized\\\\\": {\\\\\"display_value\\\\\": \\\\\"Toyota\\\\\", \\\\\"key\\\\\": \\\\\"toyota\\\\\"}}, \\\\\"model\\\\\": {\\\\\"name\\\\\": \\\\\"Yaris\\\\\", \\\\\"normalized\\\\\": {\\\\\"display_value\\\\\": \\\\\"Yaris\\\\\", \\\\\"key\\\\\": \\\\\"toyota/yaris\\\\\"}}, \\\\\"type\\\\\": {\\\\\"name\\\\\": \\\\\"1.3 VVTi Luna MMT 1E EIGENAAR|12MND GARANTIE|AUTOMAAT|LAGE KM\\\\\"}}, \\\\\"identification\\\\\": {\\\\\"slug\\\\\": \\\\\"toyota-yaris-13-vvti-luna-mmt-1e-eigenaar-12mnd-garantie-automaat-lage-km\\\\\"}, \\\\\"images\\\\\": [{\\\\\"srcset\\\\\": \\\\\"https://carpassai.images.ilsa.cloud/1a0c8c08-5425-4321-a13f-b0f0006cd276.webp 320w, https://carpassai.images.ilsa.cloud/bad4eb4d-396c-404a-9907-8a518f0b6951.webp 480w, https://carpassai.images.ilsa.cloud/74a8a173-0110-4ac0-96c8-1e2ea46cc1da.webp 640w, https://carpassai.images.ilsa.cloud/0254cc48-9897-441d-833f-01537e66b0df.webp 1024w, https://carpassai.images.ilsa.cloud/e204aa97-805d-4b5b-987b-de813d6a3bc0.webp 1920w\\\\\"}], \\\\\"powertrain\\\\\": {\\\\\"engine\\\\\": {\\\\\"energy\\\\\": {\\\\\"type\\\\\": {\\\\\"category\\\\\": {\\\\\"display_value\\\\\": \\\\\"Benzine\\\\\", \\\\\"key\\\\\": \\\\\"petrol\\\\\"}, \\\\\"code\\\\\": {\\\\\"display_value\\\\\": \\\\\"Benzine\\\\\"}}}}, \\\\\"transmission\\\\\": {\\\\\"type\\\\\": {\\\\\"display_value\\\\\": \\\\\"Automaat\\\\\", \\\\\"key\\\\\": \\\\\"automatic\\\\\"}}}, \\\\\"region_specific\\\\\": {\\\\\"nl\\\\\": {\\\\\"nap_weblabel\\\\\": false}}, \\\\\"sales_conditions\\\\\": {\\\\\"margin_scheme\\\\\": {\\\\\"key\\\\\": \\\\\"margin\\\\\"}, \\\\\"pricing\\\\\": {\\\\\"asking\\\\\": {\\\\\"consumer\\\\\": {\\\\\"amount\\\\\": 7999, \\\\\"formatted\\\\\": \\\\\"\\\\\\\\u20ac 7.999\\\\\"}}, \\\\\"consumer\\\\\": {\\\\\"excl_vat\\\\\": {\\\\\"formatted\\\\\": \\\\\"\\\\\\\\u20ac 7.999\\\\\"}, \\\\\"incl_vat\\\\\": {\\\\\"amount\\\\\": 7999, \\\\\"formatted\\\\\": \\\\\"\\\\\\\\u20ac 7.999\\\\\"}}}}}, {\\\\\"id\\\\\": \\\\\"297210769-1\\\\\", \\\\\"advertiser\\\\\": {\\\\\"accepts_leads\\\\\": true, \\\\\"city\\\\\": \\\\\"Eindhoven\\\\\", \\\\\"email\\\\\": \\\\\"info@oostendorp-auto.nl\\\\\", \\\\\"housenumber\\\\\": 31, \\\\\"id\\\\\": \\\\\"2594\\\\\", \\\\\"name\\\\\": \\\\\"Oostendorp Auto Eindhoven\\\\\", \\\\\"postal_code\\\\\": \\\\\"5628BS\\\\\", \\\\\"street\\\\\": \\\\\"Pietersbergweg \\\\\", \\\\\"telephone\\\\\": \\\\\"040 - 3112000\\\\\"}, \\\\\"body\\\\\": {\\\\\"colour\\\\\": {\\\\\"primary\\\\\": {\\\\\"display_value\\\\\": \\\\\"Blauw\\\\\", \\\\\"key\\\\\": \\\\\"blue\\\\\"}}}, \\\\\"condition\\\\\": {\\\\\"odometer\\\\\": {\\\\\"formatted\\\\\": \\\\\"30.821 km\\\\\", \\\\\"value_in_km\\\\\": 30821}}, \\\\\"description\\\\\": {\\\\\"title\\\\\": \\\\\"Toyota Corolla 1.8 Hybrid GR-Sport (Carplay Navigatie - Adaptive cruise)\\\\\"}, \\\\\"features\\\\\": {\\\\\"air_conditioning\\\\\": true, \\\\\"climate_control\\\\\": true, \\\\\"cruise_control\\\\\": true, \\\\\"tow_bar\\\\\": true}, \\\\\"general\\\\\": {\\\\\"year\\\\\": 2021, \\\\\"bodystyle\\\\\": {\\\\\"category\\\\\": {\\\\\"display_value\\\\\": \\\\\"Hatchback\\\\\", \\\\\"key\\\\\": \\\\\"hatchback\\\\\"}, \\\\\"code\\\\\": {\\\\\"display_value\\\\\": \\\\\"Hatchback\\\\\", \\\\\"key\\\\\": \\\\\"hatchback\\\\\"}}, \\\\\"make\\\\\": {\\\\\"name\\\\\": \\\\\"Toyota\\\\\", \\\\\"normalized\\\\\": {\\\\\"display_value\\\\\": \\\\\"Toyota\\\\\", \\\\\"key\\\\\": \\\\\"toyota\\\\\"}}, \\\\\"model\\\\\": {\\\\\"name\\\\\": \\\\\"Corolla\\\\\", \\\\\"normalized\\\\\": {\\\\\"display_value\\\\\": \\\\\"Corolla\\\\\", \\\\\"key\\\\\": \\\\\"toyota/corolla\\\\\"}}, \\\\\"type\\\\\": {\\\\\"name\\\\\": \\\\\"1.8 Hybrid GR-Sport\\\\\", \\\\\"supplement\\\\\": \\\\\"(Carplay Navigatie - Adaptive cruise)\\\\\"}}, \\\\\"identification\\\\\": {\\\\\"slug\\\\\": \\\\\"toyota-corolla-18-hybrid-gr-sport-carplay-navigatie-adaptive-cruise\\\\\"}, \\\\\"images\\\\\": [{\\\\\"srcset\\\\\": \\\\\"https://carpassai.images.ilsa.cloud/61cbaa8c-1e33-40e1-82d0-5491acf98889.webp 320w, https://carpassai.images.ilsa.cloud/1cd749ba-8ae9-44a6-8b8d-3097efe64e90.webp 480w, https://carpassai.images.ilsa.cloud/0f27a59f-d091-48a5-9df2-8944b89786e6.webp 640w, https://carpassai.images.ilsa.cloud/3a56bf69-6ec4-43cf-9b15-b11baba31027.webp 1024w, https://carpassai.images.ilsa.cloud/28a23bde-70ea-44df-b55f-350f045c7fe0.webp 3651w\\\\\"}], \\\\\"powertrain\\\\\": {\\\\\"engine\\\\\": {\\\\\"energy\\\\\": {\\\\\"type\\\\\": {\\\\\"category\\\\\": {\\\\\"display_value\\\\\": \\\\\"Hybride\\\\\", \\\\\"key\\\\\": \\\\\"hybrid\\\\\"}, \\\\\"code\\\\\": {\\\\\"display_value\\\\\": \\\\\"Hybride (benzine/elektrisch)\\\\\"}}}}, \\\\\"transmission\\\\\": {\\\\\"type\\\\\": {\\\\\"display_value\\\\\": \\\\\"Automaat\\\\\", \\\\\"key\\\\\": \\\\\"automatic\\\\\"}}}, \\\\\"region_specific\\\\\": {\\\\\"nl\\\\\": {\\\\\"nap_weblabel\\\\\": true}}, \\\\\"sales_conditions\\\\\": {\\\\\"margin_scheme\\\\\": {\\\\\"key\\\\\": \\\\\"margin\\\\\"}, \\\\\"pricing\\\\\": {\\\\\"asking\\\\\": {\\\\\"consumer\\\\\": {\\\\\"amount\\\\\": 26945, \\\\\"formatted\\\\\": \\\\\"\\\\\\\\u20ac 26.945\\\\\"}}, \\\\\"consumer\\\\\": {\\\\\"excl_vat\\\\\": {\\\\\"formatted\\\\\": \\\\\"\\\\\\\\u20ac 26.945\\\\\"}, \\\\\"incl_vat\\\\\": {\\\\\"amount\\\\\": 26945, \\\\\"formatted\\\\\": \\\\\"\\\\\\\\u20ac 26.945\\\\\"}}}}}, {\\\\\"id\\\\\": \\\\\"105554729-1\\\\\", \\\\\"advertiser\\\\\": {\\\\\"accepts_leads\\\\\": false, \\\\\"city\\\\\": \\\\\"Nykerk\\\\\", \\\\\"email\\\\\": \\\\\"info@fortisautomotive.nl\\\\\", \\\\\"housenumber\\\\\": 90, \\\\\"id\\\\\": \\\\\"1264\\\\\", \\\\\"name\\\\\": \\\\\"Fortis Automotive\\\\\", \\\\\"postal_code\\\\\": \\\\\"3861MA\\\\\", \\\\\"street\\\\\": \\\\\"Watergoorweg\\\\\", \\\\\"telephone\\\\\": \\\\\"033-3030264\\\\\"}, \\\\\"body\\\\\": {\\\\\"colour\\\\\": {\\\\\"primary\\\\\": {\\\\\"display_value\\\\\": \\\\\"Zwart\\\\\", \\\\\"key\\\\\": \\\\\"black\\\\\"}}}, \\\\\"condition\\\\\": {\\\\\"odometer\\\\\": {\\\\\"formatted\\\\\": \\\\\"47.322 km\\\\\", \\\\\"value_in_km\\\\\": 47322}}, \\\\\"description\\\\\": {\\\\\"title\\\\\": \\\\\"Toyota Yaris 1.5 VVT-i Active NL AUTO | CAMERA | CRUISE |\\\\\"}, \\\\\"features\\\\\": {\\\\\"air_conditioning\\\\\": true, \\\\\"climate_control\\\\\": true, \\\\\"cruise_control\\\\\": true}, \\\\\"general\\\\\": {\\\\\"year\\\\\": 2019, \\\\\"bodystyle\\\\\": {\\\\\"category\\\\\": {\\\\\"display_value\\\\\": \\\\\"Hatchback\\\\\", \\\\\"key\\\\\": \\\\\"hatchback\\\\\"}, \\\\\"code\\\\\": {\\\\\"display_value\\\\\": \\\\\"Hatchback\\\\\", \\\\\"key\\\\\": \\\\\"hatchback\\\\\"}}, \\\\\"make\\\\\": {\\\\\"name\\\\\": \\\\\"Toyota\\\\\", \\\\\"normalized\\\\\": {\\\\\"display_value\\\\\": \\\\\"Toyota\\\\\", \\\\\"key\\\\\": \\\\\"toyota\\\\\"}}, \\\\\"model\\\\\": {\\\\\"name\\\\\": \\\\\"Yaris\\\\\", \\\\\"normalized\\\\\": {\\\\\"display_value\\\\\": \\\\\"Yaris\\\\\", \\\\\"key\\\\\": \\\\\"toyota/yaris\\\\\"}}, \\\\\"type\\\\\": {\\\\\"name\\\\\": \\\\\"1.5 VVT-i Active\\\\\", \\\\\"supplement\\\\\": \\\\\"NL AUTO | CAMERA | CRUISE |\\\\\"}}, \\\\\"identification\\\\\": {\\\\\"slug\\\\\": \\\\\"toyota-yaris-15-vvt-i-active-benzine\\\\\"}, \\\\\"images\\\\\": [{\\\\\"srcset\\\\\": \\\\\"https://carpassai.images.ilsa.cloud/8f139cf6-515d-4b83-bfc8-12f95f322869.webp 320w, https://carpassai.images.ilsa.cloud/af68cbbe-c08a-4ec8-a7a6-ebfabd2ce4b4.webp 480w, https://carpassai.images.ilsa.cloud/6fda5e15-da8f-4bae-9ad2-876ccbadd404.webp 640w, https://carpassai.images.ilsa.cloud/5ab521aa-dcdf-46e8-9de6-b80f5bcd311a.webp 1024w, https://carpassai.images.ilsa.cloud/a03a7696-7238-4461-b3bc-2d0b2ddab259.webp 1920w\\\\\"}], \\\\\"powertrain\\\\\": {\\\\\"engine\\\\\": {\\\\\"energy\\\\\": {\\\\\"type\\\\\": {\\\\\"category\\\\\": {\\\\\"display_value\\\\\": \\\\\"Benzine\\\\\", \\\\\"key\\\\\": \\\\\"petrol\\\\\"}, \\\\\"code\\\\\": {\\\\\"display_value\\\\\": \\\\\"Benzine\\\\\"}}}}, \\\\\"transmission\\\\\": {\\\\\"type\\\\\": {\\\\\"display_value\\\\\": \\\\\"Automaat\\\\\", \\\\\"key\\\\\": \\\\\"automatic\\\\\"}}}, \\\\\"region_specific\\\\\": {\\\\\"nl\\\\\": {\\\\\"nap_weblabel\\\\\": true}}, \\\\\"sales_conditions\\\\\": {\\\\\"margin_scheme\\\\\": {\\\\\"key\\\\\": \\\\\"vat\\\\\"}, \\\\\"pricing\\\\\": {\\\\\"asking\\\\\": {\\\\\"consumer\\\\\": {\\\\\"amount\\\\\": 16200, \\\\\"formatted\\\\\": \\\\\"\\\\\\\\u20ac 16.200\\\\\"}}, \\\\\"consumer\\\\\": {\\\\\"excl_vat\\\\\": {\\\\\"formatted\\\\\": \\\\\"\\\\\\\\u20ac 13.575\\\\\"}, \\\\\"incl_vat\\\\\": {\\\\\"amount\\\\\": 16200, \\\\\"formatted\\\\\": \\\\\"\\\\\\\\u20ac 16.200\\\\\"}}}}}, {\\\\\"id\\\\\": \\\\\"410937648-1\\\\\", \\\\\"advertiser\\\\\": {\\\\\"accepts_leads\\\\\": true, \\\\\"city\\\\\": \\\\\"Hellevoetsluis\\\\\", \\\\\"email\\\\\": \\\\\"sales.toyota.hellevoetsluis@louwman.nl\\\\\", \\\\\"housenumber\\\\\": 1, \\\\\"id\\\\\": \\\\\"54\\\\\", \\\\\"name\\\\\": \\\\\"Louwman Hellevoetsluis\\\\\", \\\\\"postal_code\\\\\": \\\\\"3225LR\\\\\", \\\\\"street\\\\\": \\\\\"Daltonweg\\\\\", \\\\\"telephone\\\\\": \\\\\"0181-312177\\\\\"}, \\\\\"body\\\\\": {\\\\\"colour\\\\\": {\\\\\"primary\\\\\": {\\\\\"display_value\\\\\": \\\\\"Wit\\\\\", \\\\\"key\\\\\": \\\\\"white\\\\\"}}}, \\\\\"condition\\\\\": {\\\\\"odometer\\\\\": {\\\\\"formatted\\\\\": \\\\\"30.650 km\\\\\", \\\\\"value_in_km\\\\\": 30650}}, \\\\\"description\\\\\": {\\\\\"title\\\\\": \\\\\"Toyota Yaris 1.5 Hybrid Dynamic | Navigatie | Camera | LM Velgen |\\\\\"}, \\\\\"features\\\\\": {\\\\\"air_conditioning\\\\\": true, \\\\\"climate_control\\\\\": true, \\\\\"cruise_control\\\\\": true}, \\\\\"general\\\\\": {\\\\\"year\\\\\": 2021, \\\\\"bodystyle\\\\\": {\\\\\"category\\\\\": {\\\\\"display_value\\\\\": \\\\\"Hatchback\\\\\", \\\\\"key\\\\\": \\\\\"hatchback\\\\\"}, \\\\\"code\\\\\": {\\\\\"display_value\\\\\": \\\\\"Hatchback\\\\\", \\\\\"key\\\\\": \\\\\"hatchback\\\\\"}}, \\\\\"make\\\\\": {\\\\\"name\\\\\": \\\\\"Toyota\\\\\", \\\\\"normalized\\\\\": {\\\\\"display_value\\\\\": \\\\\"Toyota\\\\\", \\\\\"key\\\\\": \\\\\"toyota\\\\\"}}, \\\\\"model\\\\\": {\\\\\"name\\\\\": \\\\\"Yaris\\\\\", \\\\\"normalized\\\\\": {\\\\\"display_value\\\\\": \\\\\"Yaris\\\\\", \\\\\"key\\\\\": \\\\\"toyota/yaris\\\\\"}}, \\\\\"type\\\\\": {\\\\\"name\\\\\": \\\\\"1.5 Hybrid Dynamic\\\\\", \\\\\"supplement\\\\\": \\\\\"| Navigatie | Camera | LM Velgen |\\\\\"}}, \\\\\"identification\\\\\": {\\\\\"slug\\\\\": \\\\\"toyota-yaris-15-hybrid-dynamic-hybride\\\\\"}, \\\\\"images\\\\\": [{\\\\\"srcset\\\\\": \\\\\"https://carpassai.images.ilsa.cloud/815531ea-e06b-40b1-84a5-f38331629dbb.webp 320w, https://carpassai.images.ilsa.cloud/040fe528-697a-4e4c-a4e0-88ef918fee25.webp 480w, https://carpassai.images.ilsa.cloud/8221074a-5851-47e7-b236-be916b0eda87.webp 640w, https://carpassai.images.ilsa.cloud/f209df5b-60c1-4d45-a104-921a2de188fa.webp 1024w, https://carpassai.images.ilsa.cloud/35e33ef2-f596-4ade-9b07-0faecf5aea83.webp 1920w\\\\\"}], \\\\\"powertrain\\\\\": {\\\\\"engine\\\\\": {\\\\\"energy\\\\\": {\\\\\"type\\\\\": {\\\\\"category\\\\\": {\\\\\"display_value\\\\\": \\\\\"Hybride\\\\\", \\\\\"key\\\\\": \\\\\"hybrid\\\\\"}, \\\\\"code\\\\\": {\\\\\"display_value\\\\\": \\\\\"Hybride (benzine/elektrisch)\\\\\"}}}}, \\\\\"transmission\\\\\": {\\\\\"type\\\\\": {\\\\\"display_value\\\\\": \\\\\"Automaat\\\\\", \\\\\"key\\\\\": \\\\\"automatic\\\\\"}}}, \\\\\"region_specific\\\\\": {\\\\\"nl\\\\\": {\\\\\"nap_weblabel\\\\\": true}}, \\\\\"sales_conditions\\\\\": {\\\\\"margin_scheme\\\\\": {\\\\\"key\\\\\": \\\\\"vat\\\\\"}, \\\\\"pricing\\\\\": {\\\\\"asking\\\\\": {\\\\\"consumer\\\\\": {\\\\\"amount\\\\\": 23445, \\\\\"formatted\\\\\": \\\\\"\\\\\\\\u20ac 23.445\\\\\"}}, \\\\\"consumer\\\\\": {\\\\\"excl_vat\\\\\": {\\\\\"formatted\\\\\": \\\\\"\\\\\\\\u20ac 19.820\\\\\"}, \\\\\"incl_vat\\\\\": {\\\\\"amount\\\\\": 23445, \\\\\"formatted\\\\\": \\\\\"\\\\\\\\u20ac 23.445\\\\\"}}}}}, {\\\\\"id\\\\\": \\\\\"247432056-1\\\\\", \\\\\"advertiser\\\\\": {\\\\\"accepts_leads\\\\\": true, \\\\\"city\\\\\": \\\\\"Nijmegen\\\\\", \\\\\"email\\\\\": \\\\\"info@oostendorp-auto.nl\\\\\", \\\\\"housenumber\\\\\": 22, \\\\\"id\\\\\": \\\\\"1925\\\\\", \\\\\"name\\\\\": \\\\\"Oostendorp Scholten Nijmegen\\\\\", \\\\\"postal_code\\\\\": \\\\\"6534AN\\\\\", \\\\\"street\\\\\": \\\\\"Hulzenseweg \\\\\", \\\\\"telephone\\\\\": \\\\\"024-3590500\\\\\"}, \\\\\"body\\\\\": {\\\\\"colour\\\\\": {\\\\\"primary\\\\\": {\\\\\"display_value\\\\\": \\\\\"Blauw\\\\\", \\\\\"key\\\\\": \\\\\"blue\\\\\"}}}, \\\\\"condition\\\\\": {\\\\\"odometer\\\\\": {\\\\\"formatted\\\\\": \\\\\"82.494 km\\\\\", \\\\\"value_in_km\\\\\": 82494}}, \\\\\"description\\\\\": {\\\\\"title\\\\\": \\\\\"Toyota C-HR 1.8 Hybrid Bi-Tone | 06-10141018 Voor meer informatie\\\\\"}, \\\\\"features\\\\\": {\\\\\"air_conditioning\\\\\": true, \\\\\"climate_control\\\\\": true, \\\\\"cruise_control\\\\\": true}, \\\\\"general\\\\\": {\\\\\"year\\\\\": 2017, \\\\\"bodystyle\\\\\": {\\\\\"category\\\\\": {\\\\\"display_value\\\\\": \\\\\"SUV\\\\\", \\\\\"key\\\\\": \\\\\"suv\\\\\"}, \\\\\"code\\\\\": {\\\\\"display_value\\\\\": \\\\\"SUV\\\\\", \\\\\"key\\\\\": \\\\\"suv\\\\\"}}, \\\\\"make\\\\\": {\\\\\"name\\\\\": \\\\\"Toyota\\\\\", \\\\\"normalized\\\\\": {\\\\\"display_value\\\\\": \\\\\"Toyota\\\\\", \\\\\"key\\\\\": \\\\\"toyota\\\\\"}}, \\\\\"model\\\\\": {\\\\\"name\\\\\": \\\\\"C-HR\\\\\", \\\\\"normalized\\\\\": {\\\\\"display_value\\\\\": \\\\\"C-HR\\\\\", \\\\\"key\\\\\": \\\\\"toyota/c-hr\\\\\"}}, \\\\\"type\\\\\": {\\\\\"name\\\\\": \\\\\"1.8 Hybrid Bi-Tone\\\\\", \\\\\"supplement\\\\\": \\\\\"| 06-10141018 Voor meer informatie\\\\\"}}, \\\\\"identification\\\\\": {\\\\\"slug\\\\\": \\\\\"toyota-c-hr-18-hybrid-bi-tone-06-10141018-voor-meer-informatie\\\\\"}, \\\\\"images\\\\\": [{\\\\\"srcset\\\\\": \\\\\"https://carpassai.images.ilsa.cloud/03f01036-ef25-4823-9564-eee308191c49.webp 320w, https://carpassai.images.ilsa.cloud/1dcd0f88-d726-4262-b024-662ce66872a0.webp 480w, https://carpassai.images.ilsa.cloud/80fd68a9-488e-4433-b6ab-2ed6369dad2e.webp 640w, https://carpassai.images.ilsa.cloud/192843d6-bda0-470c-a893-ce299a0f6c28.webp 1024w, https://carpassai.images.ilsa.cloud/ef84a308-0c0c-4a89-b84c-a6907a23fe07.webp 3651w\\\\\"}], \\\\\"powertrain\\\\\": {\\\\\"engine\\\\\": {\\\\\"energy\\\\\": {\\\\\"type\\\\\": {\\\\\"category\\\\\": {\\\\\"display_value\\\\\": \\\\\"Hybride\\\\\", \\\\\"key\\\\\": \\\\\"hybrid\\\\\"}, \\\\\"code\\\\\": {\\\\\"display_value\\\\\": \\\\\"Hybride (benzine/elektrisch)\\\\\"}}}}, \\\\\"transmission\\\\\": {\\\\\"type\\\\\": {\\\\\"display_value\\\\\": \\\\\"Automaat\\\\\", \\\\\"key\\\\\": \\\\\"automatic\\\\\"}}}, \\\\\"region_specific\\\\\": {\\\\\"nl\\\\\": {\\\\\"nap_weblabel\\\\\": false}}, \\\\\"sales_conditions\\\\\": {\\\\\"margin_scheme\\\\\": {\\\\\"key\\\\\": \\\\\"margin\\\\\"}, \\\\\"pricing\\\\\": {\\\\\"asking\\\\\": {\\\\\"consumer\\\\\": {\\\\\"amount\\\\\": 22949, \\\\\"formatted\\\\\": \\\\\"\\\\\\\\u20ac 22.949\\\\\"}}, \\\\\"consumer\\\\\": {\\\\\"excl_vat\\\\\": {\\\\\"formatted\\\\\": \\\\\"\\\\\\\\u20ac 22.949\\\\\"}, \\\\\"incl_vat\\\\\": {\\\\\"amount\\\\\": 22949, \\\\\"formatted\\\\\": \\\\\"\\\\\\\\u20ac 22.949\\\\\"}}}}}, {\\\\\"id\\\\\": \\\\\"457241839-1\\\\\", \\\\\"advertiser\\\\\": {\\\\\"accepts_leads\\\\\": true, \\\\\"city\\\\\": \\\\\"Maarn\\\\\", \\\\\"email\\\\\": \\\\\"info@vakgaragebsc-maarn.nl\\\\\", \\\\\"housenumber\\\\\": 18, \\\\\"id\\\\\": \\\\\"2848\\\\\", \\\\\"name\\\\\": \\\\\"Vakgarage BSC Maarn\\\\\", \\\\\"postal_code\\\\\": \\\\\"3951LB\\\\\", \\\\\"street\\\\\": \\\\\"Amersfoortseweg \\\\\", \\\\\"telephone\\\\\": \\\\\"0610195629\\\\\"}, \\\\\"body\\\\\": {\\\\\"colour\\\\\": {\\\\\"primary\\\\\": {\\\\\"display_value\\\\\": \\\\\"Grijs\\\\\", \\\\\"key\\\\\": \\\\\"grey\\\\\"}}}, \\\\\"condition\\\\\": {\\\\\"odometer\\\\\": {\\\\\"formatted\\\\\": \\\\\"85.551 km\\\\\", \\\\\"value_in_km\\\\\": 85551}}, \\\\\"description\\\\\": {\\\\\"title\\\\\": \\\\\"Toyota Verso 1.8 VVT-i Dynamic | 7-ZITS | TREKHAAK | XENON | CAMERA | STOELVERWARMING |\\\\\"}, \\\\\"features\\\\\": {\\\\\"air_conditioning\\\\\": true, \\\\\"climate_control\\\\\": true, \\\\\"cruise_control\\\\\": true, \\\\\"tow_bar\\\\\": true}, \\\\\"general\\\\\": {\\\\\"year\\\\\": 2017, \\\\\"bodystyle\\\\\": {\\\\\"category\\\\\": {\\\\\"display_value\\\\\": \\\\\"MPV\\\\\", \\\\\"key\\\\\": \\\\\"mpv\\\\\"}, \\\\\"code\\\\\": {\\\\\"display_value\\\\\": \\\\\"MPV\\\\\", \\\\\"key\\\\\": \\\\\"mpv\\\\\"}}, \\\\\"make\\\\\": {\\\\\"name\\\\\": \\\\\"Toyota\\\\\", \\\\\"normalized\\\\\": {\\\\\"display_value\\\\\": \\\\\"Toyota\\\\\", \\\\\"key\\\\\": \\\\\"toyota\\\\\"}}, \\\\\"model\\\\\": {\\\\\"name\\\\\": \\\\\"Verso\\\\\", \\\\\"normalized\\\\\": {\\\\\"display_value\\\\\": \\\\\"Verso\\\\\", \\\\\"key\\\\\": \\\\\"toyota/verso\\\\\"}}, \\\\\"type\\\\\": {\\\\\"name\\\\\": \\\\\"1.8 VVT-i Dynamic\\\\\", \\\\\"supplement\\\\\": \\\\\"| 7-ZITS | TREKHAAK | XENON | CAMERA | STOELVERWARMING |\\\\\"}}, \\\\\"identification\\\\\": {\\\\\"slug\\\\\": \\\\\"toyota-verso-18-vvt-i-dynamic-benzine\\\\\"}, \\\\\"images\\\\\": [{\\\\\"srcset\\\\\": \\\\\"https://carpassai.images.ilsa.cloud/7c3e2b76-ef88-49db-a7d1-501f1e189831.webp 320w, https://carpassai.images.ilsa.cloud/707347af-893b-40a7-ba46-c063d6ec3239.webp 480w, https://carpassai.images.ilsa.cloud/a1a0ff4b-b14c-4d3b-a120-255027f567be.webp 640w, https://carpassai.images.ilsa.cloud/3e33504a-d650-4296-90bf-2ab750f337eb.webp 1024w, https://carpassai.images.ilsa.cloud/25270260-7534-4b27-b437-2c4de54f80a4.webp 2048w\\\\\"}], \\\\\"powertrain\\\\\": {\\\\\"engine\\\\\": {\\\\\"energy\\\\\": {\\\\\"type\\\\\": {\\\\\"category\\\\\": {\\\\\"display_value\\\\\": \\\\\"Benzine\\\\\", \\\\\"key\\\\\": \\\\\"petrol\\\\\"}, \\\\\"code\\\\\": {\\\\\"display_value\\\\\": \\\\\"Benzine\\\\\"}}}}, \\\\\"transmission\\\\\": {\\\\\"type\\\\\": {\\\\\"display_value\\\\\": \\\\\"Handgeschakeld\\\\\", \\\\\"key\\\\\": \\\\\"manual\\\\\"}}}, \\\\\"region_specific\\\\\": {\\\\\"nl\\\\\": {\\\\\"nap_weblabel\\\\\": false}}, \\\\\"sales_conditions\\\\\": {\\\\\"margin_scheme\\\\\": {\\\\\"key\\\\\": \\\\\"margin\\\\\"}, \\\\\"pricing\\\\\": {\\\\\"asking\\\\\": {\\\\\"consumer\\\\\": {\\\\\"amount\\\\\": 19850, \\\\\"formatted\\\\\": \\\\\"\\\\\\\\u20ac 19.850\\\\\"}}, \\\\\"consumer\\\\\": {\\\\\"excl_vat\\\\\": {\\\\\"formatted\\\\\": \\\\\"\\\\\\\\u20ac 19.850\\\\\"}, \\\\\"incl_vat\\\\\": {\\\\\"amount\\\\\": 19850, \\\\\"formatted\\\\\": \\\\\"\\\\\\\\u20ac 19.850\\\\\"}}}}}]}\"}]},\"queryId\":\"ed1d551d-8489-46e7-a67b-0fa2b4849a41\",\"conversationId\":\"ce23ec3b-97ef-40ac-bd8d-13c276c50f4b\"}'"
      ]
     },
     "execution_count": 171,
     "metadata": {},
     "output_type": "execute_result"
    }
   ],
   "source": [
    "text = '[Your name is Tony. Begin the chat.]'\n",
    "\n",
    "\n",
    "resp = requests.post(\n",
    "    f'https://app.docs.bynesoft.com/api/ask/query/agents/{agent_id}', \n",
    "    headers=headers,\n",
    "    params={\n",
    "        'kb': knowledge_base_id,\n",
    "        'q': text,\n",
    "        'withReference': True\n",
    "    },\n",
    "    data= '{ \"conversation\": {\\\n",
    "                \"id\": \"ce23ec3b-97ef-40ac-bd8d-13c276c50f4b\",\\\n",
    "                \"priorMessagesCount\": 10\\\n",
    "          }}').text\n",
    "\n",
    "resp"
   ]
  }
 ],
 "metadata": {
  "kernelspec": {
   "display_name": "Python 3 (ipykernel)",
   "language": "python",
   "name": "python3"
  },
  "language_info": {
   "codemirror_mode": {
    "name": "ipython",
    "version": 3
   },
   "file_extension": ".py",
   "mimetype": "text/x-python",
   "name": "python",
   "nbconvert_exporter": "python",
   "pygments_lexer": "ipython3",
   "version": "3.12.3"
  }
 },
 "nbformat": 4,
 "nbformat_minor": 5
}
